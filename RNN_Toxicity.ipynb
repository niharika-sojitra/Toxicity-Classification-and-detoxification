{
 "cells": [
  {
   "cell_type": "markdown",
   "metadata": {},
   "source": [
    "### Install Prerequisite"
   ]
  },
  {
   "cell_type": "code",
   "execution_count": 1,
   "metadata": {},
   "outputs": [
    {
     "name": "stdout",
     "output_type": "stream",
     "text": [
      "Requirement already satisfied: gradio in j:\\program files\\anaconda3\\envs\\python37\\lib\\site-packages (3.11.0)\n",
      "Requirement already satisfied: jinja2 in j:\\program files\\anaconda3\\envs\\python37\\lib\\site-packages (3.0.2)\n",
      "Requirement already satisfied: h11<0.13,>=0.11 in j:\\program files\\anaconda3\\envs\\python37\\lib\\site-packages (from gradio) (0.12.0)\n",
      "Requirement already satisfied: aiohttp in c:\\users\\joy\\appdata\\roaming\\python\\python37\\site-packages (from gradio) (3.8.3)\n",
      "Requirement already satisfied: fastapi in j:\\program files\\anaconda3\\envs\\python37\\lib\\site-packages (from gradio) (0.88.0)\n",
      "Requirement already satisfied: requests in j:\\program files\\anaconda3\\envs\\python37\\lib\\site-packages (from gradio) (2.27.1)\n",
      "Requirement already satisfied: pyyaml in j:\\program files\\anaconda3\\envs\\python37\\lib\\site-packages (from gradio) (6.0)\n",
      "Requirement already satisfied: uvicorn in j:\\program files\\anaconda3\\envs\\python37\\lib\\site-packages (from gradio) (0.20.0)\n",
      "Requirement already satisfied: ffmpy in j:\\program files\\anaconda3\\envs\\python37\\lib\\site-packages (from gradio) (0.3.0)\n",
      "Requirement already satisfied: httpx in j:\\program files\\anaconda3\\envs\\python37\\lib\\site-packages (from gradio) (0.23.1)\n",
      "Requirement already satisfied: numpy in j:\\program files\\anaconda3\\envs\\python37\\lib\\site-packages (from gradio) (1.21.4)\n",
      "Requirement already satisfied: paramiko in j:\\program files\\anaconda3\\envs\\python37\\lib\\site-packages (from gradio) (2.12.0)\n",
      "Requirement already satisfied: pillow in j:\\program files\\anaconda3\\envs\\python37\\lib\\site-packages (from gradio) (9.0.1)\n",
      "Requirement already satisfied: pydub in j:\\program files\\anaconda3\\envs\\python37\\lib\\site-packages (from gradio) (0.25.1)\n",
      "Requirement already satisfied: pydantic in j:\\program files\\anaconda3\\envs\\python37\\lib\\site-packages (from gradio) (1.10.2)\n",
      "Requirement already satisfied: pandas in j:\\program files\\anaconda3\\envs\\python37\\lib\\site-packages (from gradio) (1.3.4)\n",
      "Requirement already satisfied: orjson in j:\\program files\\anaconda3\\envs\\python37\\lib\\site-packages (from gradio) (3.8.2)\n",
      "Requirement already satisfied: python-multipart in j:\\program files\\anaconda3\\envs\\python37\\lib\\site-packages (from gradio) (0.0.5)\n",
      "Requirement already satisfied: fsspec in c:\\users\\joy\\appdata\\roaming\\python\\python37\\site-packages (from gradio) (2022.11.0)\n",
      "Requirement already satisfied: pycryptodome in j:\\program files\\anaconda3\\envs\\python37\\lib\\site-packages (from gradio) (3.16.0)\n",
      "Requirement already satisfied: matplotlib in j:\\program files\\anaconda3\\envs\\python37\\lib\\site-packages (from gradio) (3.5.1)\n",
      "Requirement already satisfied: websockets>=10.0 in j:\\program files\\anaconda3\\envs\\python37\\lib\\site-packages (from gradio) (10.4)\n",
      "Requirement already satisfied: markdown-it-py[linkify,plugins] in j:\\program files\\anaconda3\\envs\\python37\\lib\\site-packages (from gradio) (2.1.0)\n",
      "Requirement already satisfied: MarkupSafe>=2.0 in j:\\program files\\anaconda3\\envs\\python37\\lib\\site-packages (from jinja2) (2.1.1)\n",
      "Requirement already satisfied: attrs>=17.3.0 in j:\\program files\\anaconda3\\envs\\python37\\lib\\site-packages (from aiohttp->gradio) (21.4.0)\n",
      "Requirement already satisfied: typing-extensions>=3.7.4 in j:\\program files\\anaconda3\\envs\\python37\\lib\\site-packages (from aiohttp->gradio) (4.4.0)\n",
      "Requirement already satisfied: multidict<7.0,>=4.5 in c:\\users\\joy\\appdata\\roaming\\python\\python37\\site-packages (from aiohttp->gradio) (6.0.4)\n",
      "Requirement already satisfied: aiosignal>=1.1.2 in c:\\users\\joy\\appdata\\roaming\\python\\python37\\site-packages (from aiohttp->gradio) (1.3.1)\n",
      "Requirement already satisfied: frozenlist>=1.1.1 in c:\\users\\joy\\appdata\\roaming\\python\\python37\\site-packages (from aiohttp->gradio) (1.3.3)\n",
      "Requirement already satisfied: charset-normalizer<3.0,>=2.0 in j:\\program files\\anaconda3\\envs\\python37\\lib\\site-packages (from aiohttp->gradio) (2.0.12)\n",
      "Requirement already satisfied: asynctest==0.13.0 in c:\\users\\joy\\appdata\\roaming\\python\\python37\\site-packages (from aiohttp->gradio) (0.13.0)\n",
      "Requirement already satisfied: yarl<2.0,>=1.0 in c:\\users\\joy\\appdata\\roaming\\python\\python37\\site-packages (from aiohttp->gradio) (1.8.2)\n",
      "Requirement already satisfied: async-timeout<5.0,>=4.0.0a3 in c:\\users\\joy\\appdata\\roaming\\python\\python37\\site-packages (from aiohttp->gradio) (4.0.2)\n",
      "Requirement already satisfied: idna>=2.0 in j:\\program files\\anaconda3\\envs\\python37\\lib\\site-packages (from yarl<2.0,>=1.0->aiohttp->gradio) (3.3)\n",
      "Requirement already satisfied: starlette==0.22.0 in j:\\program files\\anaconda3\\envs\\python37\\lib\\site-packages (from fastapi->gradio) (0.22.0)\n",
      "Requirement already satisfied: anyio<5,>=3.4.0 in j:\\program files\\anaconda3\\envs\\python37\\lib\\site-packages (from starlette==0.22.0->fastapi->gradio) (3.6.2)\n",
      "Requirement already satisfied: sniffio>=1.1 in j:\\program files\\anaconda3\\envs\\python37\\lib\\site-packages (from anyio<5,>=3.4.0->starlette==0.22.0->fastapi->gradio) (1.3.0)\n",
      "Requirement already satisfied: rfc3986[idna2008]<2,>=1.3 in j:\\program files\\anaconda3\\envs\\python37\\lib\\site-packages (from httpx->gradio) (1.5.0)\n",
      "Requirement already satisfied: httpcore<0.17.0,>=0.15.0 in j:\\program files\\anaconda3\\envs\\python37\\lib\\site-packages (from httpx->gradio) (0.15.0)\n",
      "Requirement already satisfied: certifi in j:\\program files\\anaconda3\\envs\\python37\\lib\\site-packages (from httpx->gradio) (2021.10.8)\n",
      "Requirement already satisfied: mdurl~=0.1 in j:\\program files\\anaconda3\\envs\\python37\\lib\\site-packages (from markdown-it-py[linkify,plugins]->gradio) (0.1.2)\n",
      "Requirement already satisfied: mdit-py-plugins in j:\\program files\\anaconda3\\envs\\python37\\lib\\site-packages (from markdown-it-py[linkify,plugins]->gradio) (0.3.1)\n",
      "Requirement already satisfied: linkify-it-py~=1.0 in j:\\program files\\anaconda3\\envs\\python37\\lib\\site-packages (from markdown-it-py[linkify,plugins]->gradio) (1.0.3)\n",
      "Requirement already satisfied: uc-micro-py in j:\\program files\\anaconda3\\envs\\python37\\lib\\site-packages (from linkify-it-py~=1.0->markdown-it-py[linkify,plugins]->gradio) (1.0.1)\n",
      "Requirement already satisfied: pyparsing>=2.2.1 in j:\\program files\\anaconda3\\envs\\python37\\lib\\site-packages (from matplotlib->gradio) (3.0.4)\n",
      "Requirement already satisfied: packaging>=20.0 in j:\\program files\\anaconda3\\envs\\python37\\lib\\site-packages (from matplotlib->gradio) (21.3)\n",
      "Requirement already satisfied: kiwisolver>=1.0.1 in j:\\program files\\anaconda3\\envs\\python37\\lib\\site-packages (from matplotlib->gradio) (1.3.2)\n",
      "Requirement already satisfied: cycler>=0.10 in j:\\program files\\anaconda3\\envs\\python37\\lib\\site-packages (from matplotlib->gradio) (0.11.0)\n",
      "Requirement already satisfied: python-dateutil>=2.7 in j:\\program files\\anaconda3\\envs\\python37\\lib\\site-packages (from matplotlib->gradio) (2.8.2)\n",
      "Requirement already satisfied: fonttools>=4.22.0 in j:\\program files\\anaconda3\\envs\\python37\\lib\\site-packages (from matplotlib->gradio) (4.29.1)\n",
      "Requirement already satisfied: six>=1.5 in j:\\program files\\anaconda3\\envs\\python37\\lib\\site-packages (from python-dateutil>=2.7->matplotlib->gradio) (1.16.0)\n",
      "Requirement already satisfied: pytz>=2017.3 in j:\\program files\\anaconda3\\envs\\python37\\lib\\site-packages (from pandas->gradio) (2021.3)\n",
      "Requirement already satisfied: pynacl>=1.0.1 in j:\\program files\\anaconda3\\envs\\python37\\lib\\site-packages (from paramiko->gradio) (1.5.0)\n",
      "Requirement already satisfied: cryptography>=2.5 in j:\\program files\\anaconda3\\envs\\python37\\lib\\site-packages (from paramiko->gradio) (38.0.4)\n",
      "Requirement already satisfied: bcrypt>=3.1.3 in j:\\program files\\anaconda3\\envs\\python37\\lib\\site-packages (from paramiko->gradio) (4.0.1)\n",
      "Requirement already satisfied: cffi>=1.12 in j:\\program files\\anaconda3\\envs\\python37\\lib\\site-packages (from cryptography>=2.5->paramiko->gradio) (1.15.0)\n",
      "Requirement already satisfied: pycparser in j:\\program files\\anaconda3\\envs\\python37\\lib\\site-packages (from cffi>=1.12->cryptography>=2.5->paramiko->gradio) (2.21)\n",
      "Requirement already satisfied: urllib3<1.27,>=1.21.1 in j:\\program files\\anaconda3\\envs\\python37\\lib\\site-packages (from requests->gradio) (1.26.13)\n",
      "Requirement already satisfied: click>=7.0 in j:\\program files\\anaconda3\\envs\\python37\\lib\\site-packages (from uvicorn->gradio) (8.1.3)\n",
      "Requirement already satisfied: colorama in j:\\program files\\anaconda3\\envs\\python37\\lib\\site-packages (from click>=7.0->uvicorn->gradio) (0.4.4)\n",
      "Requirement already satisfied: importlib-metadata in j:\\program files\\anaconda3\\envs\\python37\\lib\\site-packages (from click>=7.0->uvicorn->gradio) (5.1.0)\n",
      "Requirement already satisfied: zipp>=0.5 in j:\\program files\\anaconda3\\envs\\python37\\lib\\site-packages (from importlib-metadata->click>=7.0->uvicorn->gradio) (3.7.0)\n"
     ]
    }
   ],
   "source": [
    "!pip install gradio jinja2"
   ]
  },
  {
   "cell_type": "markdown",
   "metadata": {},
   "source": [
    "### Importing Libraries"
   ]
  },
  {
   "cell_type": "code",
   "execution_count": 3,
   "metadata": {
    "id": "4QGAt01tpXrf"
   },
   "outputs": [
    {
     "name": "stderr",
     "output_type": "stream",
     "text": [
      "J:\\Program Files\\Anaconda3\\envs\\python37\\lib\\site-packages\\tqdm\\auto.py:22: TqdmWarning: IProgress not found. Please update jupyter and ipywidgets. See https://ipywidgets.readthedocs.io/en/stable/user_install.html\n",
      "  from .autonotebook import tqdm as notebook_tqdm\n"
     ]
    }
   ],
   "source": [
    "import os\n",
    "import numpy as np\n",
    "import pandas as pd\n",
    "import sys\n",
    "sys.path.append('C:/Users/JOY/Desktop/Final Project')\n",
    "\n",
    "from sklearn.model_selection import train_test_split\n",
    "\n",
    "from keras import backend as K\n",
    "import tensorflow as tf\n",
    "import tensorflow.keras.preprocessing.text as tk\n",
    "import tensorflow.keras.preprocessing.sequence as ps\n",
    "from tensorflow.keras.layers import Input, Dropout, Bidirectional, Dense, Embedding, Conv1D\n",
    "from tensorflow.keras.layers import GlobalAveragePooling1D, GlobalMaxPooling1D, concatenate\n",
    "\n",
    "import Caribe as cb\n",
    "import gradio as gr"
   ]
  },
  {
   "cell_type": "markdown",
   "metadata": {},
   "source": [
    "### Data Loading"
   ]
  },
  {
   "cell_type": "code",
   "execution_count": 9,
   "metadata": {
    "id": "XA8asAkbnth6"
   },
   "outputs": [],
   "source": [
    "df = pd.read_csv(os.path.join('datasets/jigsaw-toxic-comment-classification-challenge','train.csv', 'train.csv'))\n",
    "GLOVE_EMBEDDING = \"datasets/glove.6B.100d.txt\"\n",
    "\n",
    "column_names=[\"short\",\"long\"]\n",
    "df1 = pd.read_csv(\"datasets/abbrevations.csv\",names=column_names)\n",
    "df2 = pd.read_csv(\"datasets/emoji_df.csv\")\n",
    "df3 = pd.read_csv(\"datasets/twitterSlang.csv\")"
   ]
  },
  {
   "cell_type": "markdown",
   "metadata": {},
   "source": [
    "### Train Test Split"
   ]
  },
  {
   "cell_type": "code",
   "execution_count": 10,
   "metadata": {},
   "outputs": [
    {
     "name": "stdout",
     "output_type": "stream",
     "text": [
      "Train: (111699, 8)\n",
      "Test: (47872, 8)\n"
     ]
    }
   ],
   "source": [
    "train, test = train_test_split(df, test_size = 0.3, random_state = 1)\n",
    "\n",
    "print(\"Train:\", train.shape)\n",
    "print(\"Test:\", test.shape)"
   ]
  },
  {
   "cell_type": "code",
   "execution_count": 11,
   "metadata": {},
   "outputs": [],
   "source": [
    "train[\"comment_text\"].fillna(\"fillna\")\n",
    "test[\"comment_text\"].fillna(\"fillna\")\n",
    "\n",
    "x_train = train[\"comment_text\"].str.lower()\n",
    "x_test = test[\"comment_text\"].str.lower()\n",
    "\n",
    "y_train = train[[\"Toxic\", \"Severe Toxic\", \"Obscene\", \"Threat\", \"Insult\", \"Identity Hate\"]].values\n",
    "y_test = test[[\"Toxic\", \"Severe Toxic\", \"Obscene\", \"Threat\", \"Insult\", \"Identity Hate\"]].values"
   ]
  },
  {
   "cell_type": "markdown",
   "metadata": {},
   "source": [
    "### Tokenizer"
   ]
  },
  {
   "cell_type": "code",
   "execution_count": 12,
   "metadata": {},
   "outputs": [],
   "source": [
    "max_words = 100000\n",
    "max_len = 150\n",
    "\n",
    "embed_size = 100\n",
    "\n",
    "tokenizer = tk.Tokenizer(num_words=max_words, lower=True)\n",
    "\n",
    "tokenizer.fit_on_texts(x_train)\n",
    "\n",
    "x_train = tokenizer.texts_to_sequences(x_train)\n",
    "x_test = tokenizer.texts_to_sequences(x_test)\n",
    "\n",
    "x_train = ps.pad_sequences(x_train, maxlen=max_len)\n",
    "x_test = ps.pad_sequences(x_test, maxlen=max_len)"
   ]
  },
  {
   "cell_type": "markdown",
   "metadata": {},
   "source": [
    "### Glove Embedding Vectorizer"
   ]
  },
  {
   "cell_type": "code",
   "execution_count": 13,
   "metadata": {
    "id": "JwR3B5Axpokk"
   },
   "outputs": [],
   "source": [
    "embeddings_index = {}\n",
    "\n",
    "with open(GLOVE_EMBEDDING, encoding='utf8') as f:\n",
    "    for line in f:\n",
    "        values = line.rstrip().rsplit(' ')\n",
    "        word = values[0]\n",
    "        embed = np.asarray(values[1:], dtype='float32')\n",
    "        embeddings_index[word] = embed\n",
    "\n",
    "word_index = tokenizer.word_index\n",
    "\n",
    "num_words = min(max_words, len(word_index) + 1)\n",
    "\n",
    "embedding_matrix = np.zeros((num_words, embed_size), dtype='float32')\n",
    "\n",
    "for word, i in word_index.items():\n",
    "\n",
    "    if i >= max_words:\n",
    "        continue\n",
    "\n",
    "    embedding_vector = embeddings_index.get(word)\n",
    "\n",
    "    if embedding_vector is not None:\n",
    "        embedding_matrix[i] = embedding_vector"
   ]
  },
  {
   "cell_type": "markdown",
   "metadata": {},
   "source": [
    "### Precision Recall F1"
   ]
  },
  {
   "cell_type": "code",
   "execution_count": 14,
   "metadata": {},
   "outputs": [],
   "source": [
    "def recall_m(y_true, y_pred):\n",
    "    true_positives = K.sum(K.round(K.clip(y_true * y_pred, 0, 1)))\n",
    "    possible_positives = K.sum(K.round(K.clip(y_true, 0, 1)))\n",
    "    recall = true_positives / (possible_positives + K.epsilon())\n",
    "    return recall\n",
    "\n",
    "def precision_m(y_true, y_pred):\n",
    "    true_positives = K.sum(K.round(K.clip(y_true * y_pred, 0, 1)))\n",
    "    predicted_positives = K.sum(K.round(K.clip(y_pred, 0, 1)))\n",
    "    precision = true_positives / (predicted_positives + K.epsilon())\n",
    "    return precision\n",
    "\n",
    "def f1_m(y_true, y_pred):\n",
    "    precision = precision_m(y_true, y_pred)\n",
    "    recall = recall_m(y_true, y_pred)\n",
    "    return 2*((precision*recall)/(precision+recall+K.epsilon()))"
   ]
  },
  {
   "cell_type": "markdown",
   "metadata": {},
   "source": [
    "### Defining CNN Model"
   ]
  },
  {
   "cell_type": "code",
   "execution_count": 15,
   "metadata": {
    "id": "ChchJafsqLVQ"
   },
   "outputs": [
    {
     "name": "stdout",
     "output_type": "stream",
     "text": [
      "WARNING:tensorflow:Layer gru will not use cuDNN kernels since it doesn't meet the criteria. It will use a generic GPU kernel as fallback when running on GPU.\n",
      "WARNING:tensorflow:Layer gru will not use cuDNN kernels since it doesn't meet the criteria. It will use a generic GPU kernel as fallback when running on GPU.\n",
      "WARNING:tensorflow:Layer gru will not use cuDNN kernels since it doesn't meet the criteria. It will use a generic GPU kernel as fallback when running on GPU.\n"
     ]
    }
   ],
   "source": [
    "input = Input(shape=(max_len,))\n",
    "\n",
    "x = Embedding(max_words, embed_size, weights=[embedding_matrix], trainable=False)(input)\n",
    "\n",
    "x = Bidirectional(tf.keras.layers.GRU(128, return_sequences=True, dropout=0.1,\n",
    "                                                      recurrent_dropout=0.1))(x)\n",
    "\n",
    "x = Conv1D(64, kernel_size=3, padding=\"valid\", kernel_initializer=\"glorot_uniform\")(x)\n",
    "\n",
    "avg_pool = GlobalAveragePooling1D()(x)\n",
    "max_pool = GlobalMaxPooling1D()(x)\n",
    "\n",
    "x = concatenate([avg_pool, max_pool])\n",
    "\n",
    "preds = Dense(6, activation=\"sigmoid\")(x)\n",
    "\n",
    "model = tf.keras.Model(input, preds)"
   ]
  },
  {
   "cell_type": "markdown",
   "metadata": {},
   "source": [
    "### Summarize Model"
   ]
  },
  {
   "cell_type": "code",
   "execution_count": 16,
   "metadata": {
    "colab": {
     "base_uri": "https://localhost:8080/"
    },
    "id": "geXcXukbrdhN",
    "outputId": "5101e504-3ace-4550-b1e7-b4e8653f8d57"
   },
   "outputs": [
    {
     "name": "stdout",
     "output_type": "stream",
     "text": [
      "Model: \"model\"\n",
      "__________________________________________________________________________________________________\n",
      " Layer (type)                   Output Shape         Param #     Connected to                     \n",
      "==================================================================================================\n",
      " input_1 (InputLayer)           [(None, 150)]        0           []                               \n",
      "                                                                                                  \n",
      " embedding (Embedding)          (None, 150, 100)     10000000    ['input_1[0][0]']                \n",
      "                                                                                                  \n",
      " bidirectional (Bidirectional)  (None, 150, 256)     176640      ['embedding[0][0]']              \n",
      "                                                                                                  \n",
      " conv1d (Conv1D)                (None, 148, 64)      49216       ['bidirectional[0][0]']          \n",
      "                                                                                                  \n",
      " global_average_pooling1d (Glob  (None, 64)          0           ['conv1d[0][0]']                 \n",
      " alAveragePooling1D)                                                                              \n",
      "                                                                                                  \n",
      " global_max_pooling1d (GlobalMa  (None, 64)          0           ['conv1d[0][0]']                 \n",
      " xPooling1D)                                                                                      \n",
      "                                                                                                  \n",
      " concatenate (Concatenate)      (None, 128)          0           ['global_average_pooling1d[0][0]'\n",
      "                                                                 , 'global_max_pooling1d[0][0]']  \n",
      "                                                                                                  \n",
      " dense (Dense)                  (None, 6)            774         ['concatenate[0][0]']            \n",
      "                                                                                                  \n",
      "==================================================================================================\n",
      "Total params: 10,226,630\n",
      "Trainable params: 226,630\n",
      "Non-trainable params: 10,000,000\n",
      "__________________________________________________________________________________________________\n"
     ]
    },
    {
     "name": "stderr",
     "output_type": "stream",
     "text": [
      "J:\\Program Files\\Anaconda3\\envs\\python37\\lib\\site-packages\\keras\\optimizer_v2\\adam.py:105: UserWarning: The `lr` argument is deprecated, use `learning_rate` instead.\n",
      "  super(Adam, self).__init__(name, **kwargs)\n"
     ]
    }
   ],
   "source": [
    "model.summary()\n",
    "model.compile(loss='binary_crossentropy', optimizer=tf.keras.optimizers.Adam(lr=1e-3), metrics=['acc',f1_m,precision_m, recall_m])"
   ]
  },
  {
   "cell_type": "markdown",
   "metadata": {},
   "source": [
    "### Train Model"
   ]
  },
  {
   "cell_type": "code",
   "execution_count": 17,
   "metadata": {
    "colab": {
     "base_uri": "https://localhost:8080/"
    },
    "id": "MUXKkxL4rhTc",
    "outputId": "109b8f01-6e6b-49b9-f8a2-38a0ef6f54ad"
   },
   "outputs": [
    {
     "name": "stdout",
     "output_type": "stream",
     "text": [
      "Epoch 1/3\n",
      "699/699 [==============================] - ETA: 0s - loss: 0.0709 - acc: 0.9134 - f1_m: 0.5882 - precision_m: 0.7378 - recall_m: 0.5160\n",
      "Epoch 00001: saving model to training_1\\cp.ckpt\n",
      "699/699 [==============================] - 3072s 4s/step - loss: 0.0709 - acc: 0.9134 - f1_m: 0.5882 - precision_m: 0.7378 - recall_m: 0.5160 - val_loss: 0.0536 - val_acc: 0.9876 - val_f1_m: 0.6784 - val_precision_m: 0.8189 - val_recall_m: 0.5890\n",
      "Epoch 2/3\n",
      "699/699 [==============================] - ETA: 0s - loss: 0.0517 - acc: 0.9547 - f1_m: 0.6993 - precision_m: 0.8097 - recall_m: 0.6300\n",
      "Epoch 00002: saving model to training_1\\cp.ckpt\n",
      "699/699 [==============================] - 3037s 4s/step - loss: 0.0517 - acc: 0.9547 - f1_m: 0.6993 - precision_m: 0.8097 - recall_m: 0.6300 - val_loss: 0.0495 - val_acc: 0.9677 - val_f1_m: 0.7093 - val_precision_m: 0.8210 - val_recall_m: 0.6335\n",
      "Epoch 3/3\n",
      "699/699 [==============================] - ETA: 0s - loss: 0.0471 - acc: 0.9392 - f1_m: 0.7252 - precision_m: 0.8187 - recall_m: 0.6643\n",
      "Epoch 00003: saving model to training_1\\cp.ckpt\n",
      "699/699 [==============================] - 2879s 4s/step - loss: 0.0471 - acc: 0.9392 - f1_m: 0.7252 - precision_m: 0.8187 - recall_m: 0.6643 - val_loss: 0.0493 - val_acc: 0.8425 - val_f1_m: 0.7309 - val_precision_m: 0.7518 - val_recall_m: 0.7236\n"
     ]
    },
    {
     "data": {
      "text/plain": [
       "<keras.callbacks.History at 0x26594edad88>"
      ]
     },
     "execution_count": 17,
     "metadata": {},
     "output_type": "execute_result"
    }
   ],
   "source": [
    "batch_size = 128\n",
    "\n",
    "checkpoint_path = \"training_1/cp.ckpt\"\n",
    "checkpoint_dir = os.path.dirname(checkpoint_path)\n",
    "\n",
    "cp_callback = tf.keras.callbacks.ModelCheckpoint(checkpoint_path,save_weights_only=True,verbose=1)\n",
    "\n",
    "callbacks = [tf.keras.callbacks.EarlyStopping(patience=5, monitor='val_loss'),tf.keras.callbacks.TensorBoard(log_dir='./logs'),cp_callback]\n",
    "\n",
    "model.fit(x_train, y_train, validation_split=0.2, batch_size=batch_size, epochs=3, callbacks=callbacks, verbose=1)"
   ]
  },
  {
   "cell_type": "markdown",
   "metadata": {},
   "source": [
    "### Load the Latest Model"
   ]
  },
  {
   "cell_type": "code",
   "execution_count": 18,
   "metadata": {
    "colab": {
     "base_uri": "https://localhost:8080/"
    },
    "id": "lhCsZDigrmVY",
    "outputId": "3cf939fd-361b-40e6-e352-9865a197cf52"
   },
   "outputs": [
    {
     "data": {
      "text/plain": [
       "<tensorflow.python.training.tracking.util.CheckpointLoadStatus at 0x265952bf388>"
      ]
     },
     "execution_count": 18,
     "metadata": {},
     "output_type": "execute_result"
    }
   ],
   "source": [
    "latest = tf.train.latest_checkpoint(checkpoint_dir)\n",
    "model.load_weights(latest)"
   ]
  },
  {
   "cell_type": "markdown",
   "metadata": {},
   "source": [
    "### Model Predictions"
   ]
  },
  {
   "cell_type": "code",
   "execution_count": 19,
   "metadata": {},
   "outputs": [
    {
     "name": "stdout",
     "output_type": "stream",
     "text": [
      "['article creation where would i go to start an article thanks']\n",
      "[0 0 0 0 0 0]\n",
      "[[1.1243155e-03 7.9698846e-05 1.1842737e-03 9.8319390e-05 6.3161750e-04\n",
      "  8.7936380e-05]]\n"
     ]
    }
   ],
   "source": [
    "predictions = model.predict(np.expand_dims(x_train[43], 0))\n",
    "\n",
    "print(tokenizer.sequences_to_texts([x_train[43]]))\n",
    "print(y_train[43])\n",
    "print(predictions)"
   ]
  },
  {
   "cell_type": "markdown",
   "metadata": {},
   "source": [
    "### Model Evaluation"
   ]
  },
  {
   "cell_type": "code",
   "execution_count": 20,
   "metadata": {},
   "outputs": [
    {
     "name": "stdout",
     "output_type": "stream",
     "text": [
      "1496/1496 [==============================] - 904s 603ms/step - loss: 0.0506 - acc: 0.8494 - f1_m: 0.6574 - precision_m: 0.6972 - recall_m: 0.6638\n"
     ]
    }
   ],
   "source": [
    "loss, accuracy, f1_score, precision, recall = model.evaluate(x_test, y_test, verbose=1)"
   ]
  },
  {
   "cell_type": "code",
   "execution_count": 21,
   "metadata": {},
   "outputs": [
    {
     "name": "stdout",
     "output_type": "stream",
     "text": [
      "Precision: 0.6972138285636902, Recall:0.6637949347496033, Accuracy:0.8493691682815552, F1:0.6574142575263977\n"
     ]
    }
   ],
   "source": [
    "print(f'Precision: {precision}, Recall:{recall}, Accuracy:{accuracy}, F1:{f1_score}')"
   ]
  },
  {
   "cell_type": "markdown",
   "metadata": {},
   "source": [
    "### Save the Model "
   ]
  },
  {
   "cell_type": "code",
   "execution_count": 22,
   "metadata": {
    "id": "LgTHKTperp4b"
   },
   "outputs": [],
   "source": [
    "model.save('models/rnn03.h5')"
   ]
  },
  {
   "cell_type": "markdown",
   "metadata": {},
   "source": [
    "### Load the Model"
   ]
  },
  {
   "cell_type": "code",
   "execution_count": 27,
   "metadata": {},
   "outputs": [
    {
     "name": "stdout",
     "output_type": "stream",
     "text": [
      "WARNING:tensorflow:Layer gru will not use cuDNN kernels since it doesn't meet the criteria. It will use a generic GPU kernel as fallback when running on GPU.\n",
      "WARNING:tensorflow:Layer gru will not use cuDNN kernels since it doesn't meet the criteria. It will use a generic GPU kernel as fallback when running on GPU.\n",
      "WARNING:tensorflow:Layer gru will not use cuDNN kernels since it doesn't meet the criteria. It will use a generic GPU kernel as fallback when running on GPU.\n"
     ]
    }
   ],
   "source": [
    "model = tf.keras.models.load_model('models/rnn03.h5',custom_objects={\"f1_m\": f1_m, \"precision_m\": precision_m, \"recall_m\": recall_m})"
   ]
  },
  {
   "cell_type": "markdown",
   "metadata": {},
   "source": [
    "### Pre-Processing Filters"
   ]
  },
  {
   "cell_type": "code",
   "execution_count": 28,
   "metadata": {},
   "outputs": [],
   "source": [
    "def preprocessingfilters(comment):\n",
    "    print(\"\\nOriginal sentence : \" ,comment)\n",
    "\n",
    "    #Slang \n",
    "    for i in df3.loc[:, 'slang']:\n",
    "        comment = comment.lower()\n",
    "        if(i.lower() in comment.split(\" \")):\n",
    "            j = df3[i==df3['slang']]\n",
    "            k = j.iloc[-1].values\n",
    "\n",
    "        comment = comment.lower()\n",
    "        comment = comment.replace(i.lower(), k[1])\n",
    "        print(\"Slang Expanded sentence : \" ,comment)\n",
    "\n",
    "    # Abberivation\n",
    "    for i in df1.loc[:, 'short']:\n",
    "        comment = comment.lower()\n",
    "        if(i.lower() in comment.split(\" \")):\n",
    "            j = df1[i==df1['short']]\n",
    "            k = j.iloc[-1].values\n",
    "\n",
    "        comment = comment.lower()\n",
    "        comment = comment.replace(i.lower(), k[1])\n",
    "        print(\"Abberivation Expanded sentence : \" ,comment)\n",
    "\n",
    "    # Emojis\n",
    "    for i in df2.loc[:, 'emoji']:\n",
    "        if(i in comment):\n",
    "            j = df2[i==df2['emoji']]\n",
    "            k = j.iloc[-1].values\n",
    "\n",
    "        comment = comment.replace(i, \", having \" +k[1])\n",
    "        print(\"Emojis Expanded sentence : \" ,comment)\n",
    "\n",
    "    comment=cb.caribe_corrector(comment)\n",
    "    print(\"Correct sentence : \" ,comment)\n",
    "    return comment"
   ]
  },
  {
   "cell_type": "markdown",
   "metadata": {},
   "source": [
    "### User Interface"
   ]
  },
  {
   "cell_type": "code",
   "execution_count": 29,
   "metadata": {},
   "outputs": [
    {
     "name": "stdout",
     "output_type": "stream",
     "text": [
      "Requirement already satisfied: simpletransformers in c:\\users\\joy\\appdata\\roaming\\python\\python37\\site-packages (0.63.9)\n",
      "Requirement already satisfied: datasets in c:\\users\\joy\\appdata\\roaming\\python\\python37\\site-packages (2.8.0)\n",
      "Requirement already satisfied: tqdm in j:\\program files\\anaconda3\\envs\\python37\\lib\\site-packages (4.64.1)\n",
      "Requirement already satisfied: pandas in j:\\program files\\anaconda3\\envs\\python37\\lib\\site-packages (1.3.4)\n",
      "Requirement already satisfied: streamlit in j:\\program files\\anaconda3\\envs\\python37\\lib\\site-packages (from simpletransformers) (1.16.0)\n",
      "Requirement already satisfied: tokenizers in j:\\program files\\anaconda3\\envs\\python37\\lib\\site-packages (from simpletransformers) (0.13.2)\n",
      "Requirement already satisfied: scipy in j:\\program files\\anaconda3\\envs\\python37\\lib\\site-packages (from simpletransformers) (1.7.3)\n",
      "Requirement already satisfied: sentencepiece in j:\\program files\\anaconda3\\envs\\python37\\lib\\site-packages (from simpletransformers) (0.1.95)\n",
      "Requirement already satisfied: wandb>=0.10.32 in j:\\program files\\anaconda3\\envs\\python37\\lib\\site-packages (from simpletransformers) (0.13.7)\n",
      "Requirement already satisfied: transformers>=4.6.0 in c:\\users\\joy\\appdata\\roaming\\python\\python37\\site-packages (from simpletransformers) (4.25.1)\n",
      "Requirement already satisfied: numpy in j:\\program files\\anaconda3\\envs\\python37\\lib\\site-packages (from simpletransformers) (1.21.4)\n",
      "Requirement already satisfied: scikit-learn in j:\\program files\\anaconda3\\envs\\python37\\lib\\site-packages (from simpletransformers) (1.0.2)\n",
      "Requirement already satisfied: requests in j:\\program files\\anaconda3\\envs\\python37\\lib\\site-packages (from simpletransformers) (2.27.1)\n",
      "Requirement already satisfied: tensorboard in j:\\program files\\anaconda3\\envs\\python37\\lib\\site-packages (from simpletransformers) (2.10.1)\n",
      "Requirement already satisfied: regex in j:\\program files\\anaconda3\\envs\\python37\\lib\\site-packages (from simpletransformers) (2022.9.13)\n",
      "Requirement already satisfied: seqeval in j:\\program files\\anaconda3\\envs\\python37\\lib\\site-packages (from simpletransformers) (1.2.2)\n",
      "Requirement already satisfied: huggingface-hub<1.0.0,>=0.2.0 in c:\\users\\joy\\appdata\\roaming\\python\\python37\\site-packages (from datasets) (0.11.1)\n",
      "Requirement already satisfied: packaging in j:\\program files\\anaconda3\\envs\\python37\\lib\\site-packages (from datasets) (21.3)\n",
      "Requirement already satisfied: pyarrow>=6.0.0 in j:\\program files\\anaconda3\\envs\\python37\\lib\\site-packages (from datasets) (10.0.1)\n",
      "Requirement already satisfied: pyyaml>=5.1 in j:\\program files\\anaconda3\\envs\\python37\\lib\\site-packages (from datasets) (6.0)\n",
      "Requirement already satisfied: fsspec[http]>=2021.11.1 in c:\\users\\joy\\appdata\\roaming\\python\\python37\\site-packages (from datasets) (2022.11.0)\n",
      "Requirement already satisfied: importlib-metadata in j:\\program files\\anaconda3\\envs\\python37\\lib\\site-packages (from datasets) (5.1.0)\n",
      "Requirement already satisfied: responses<0.19 in c:\\users\\joy\\appdata\\roaming\\python\\python37\\site-packages (from datasets) (0.18.0)\n",
      "Requirement already satisfied: dill<0.3.7 in c:\\users\\joy\\appdata\\roaming\\python\\python37\\site-packages (from datasets) (0.3.6)\n",
      "Requirement already satisfied: xxhash in c:\\users\\joy\\appdata\\roaming\\python\\python37\\site-packages (from datasets) (3.2.0)\n",
      "Requirement already satisfied: multiprocess in c:\\users\\joy\\appdata\\roaming\\python\\python37\\site-packages (from datasets) (0.70.14)\n",
      "Requirement already satisfied: aiohttp in c:\\users\\joy\\appdata\\roaming\\python\\python37\\site-packages (from datasets) (3.8.3)\n",
      "Requirement already satisfied: colorama in j:\\program files\\anaconda3\\envs\\python37\\lib\\site-packages (from tqdm) (0.4.4)\n",
      "Requirement already satisfied: python-dateutil>=2.7.3 in j:\\program files\\anaconda3\\envs\\python37\\lib\\site-packages (from pandas) (2.8.2)\n",
      "Requirement already satisfied: pytz>=2017.3 in j:\\program files\\anaconda3\\envs\\python37\\lib\\site-packages (from pandas) (2021.3)\n",
      "Requirement already satisfied: yarl<2.0,>=1.0 in c:\\users\\joy\\appdata\\roaming\\python\\python37\\site-packages (from aiohttp->datasets) (1.8.2)\n",
      "Requirement already satisfied: charset-normalizer<3.0,>=2.0 in j:\\program files\\anaconda3\\envs\\python37\\lib\\site-packages (from aiohttp->datasets) (2.0.12)\n",
      "Requirement already satisfied: asynctest==0.13.0 in c:\\users\\joy\\appdata\\roaming\\python\\python37\\site-packages (from aiohttp->datasets) (0.13.0)\n",
      "Requirement already satisfied: frozenlist>=1.1.1 in c:\\users\\joy\\appdata\\roaming\\python\\python37\\site-packages (from aiohttp->datasets) (1.3.3)\n",
      "Requirement already satisfied: async-timeout<5.0,>=4.0.0a3 in c:\\users\\joy\\appdata\\roaming\\python\\python37\\site-packages (from aiohttp->datasets) (4.0.2)\n",
      "Requirement already satisfied: typing-extensions>=3.7.4 in j:\\program files\\anaconda3\\envs\\python37\\lib\\site-packages (from aiohttp->datasets) (4.4.0)\n",
      "Requirement already satisfied: attrs>=17.3.0 in j:\\program files\\anaconda3\\envs\\python37\\lib\\site-packages (from aiohttp->datasets) (21.4.0)\n",
      "Requirement already satisfied: multidict<7.0,>=4.5 in c:\\users\\joy\\appdata\\roaming\\python\\python37\\site-packages (from aiohttp->datasets) (6.0.4)\n",
      "Requirement already satisfied: aiosignal>=1.1.2 in c:\\users\\joy\\appdata\\roaming\\python\\python37\\site-packages (from aiohttp->datasets) (1.3.1)\n",
      "Requirement already satisfied: filelock in j:\\program files\\anaconda3\\envs\\python37\\lib\\site-packages (from huggingface-hub<1.0.0,>=0.2.0->datasets) (3.8.0)\n",
      "Requirement already satisfied: pyparsing!=3.0.5,>=2.0.2 in j:\\program files\\anaconda3\\envs\\python37\\lib\\site-packages (from packaging->datasets) (3.0.4)\n",
      "Requirement already satisfied: six>=1.5 in j:\\program files\\anaconda3\\envs\\python37\\lib\\site-packages (from python-dateutil>=2.7.3->pandas) (1.16.0)\n",
      "Requirement already satisfied: urllib3<1.27,>=1.21.1 in j:\\program files\\anaconda3\\envs\\python37\\lib\\site-packages (from requests->simpletransformers) (1.26.13)\n",
      "Requirement already satisfied: idna<4,>=2.5 in j:\\program files\\anaconda3\\envs\\python37\\lib\\site-packages (from requests->simpletransformers) (3.3)\n",
      "Requirement already satisfied: certifi>=2017.4.17 in j:\\program files\\anaconda3\\envs\\python37\\lib\\site-packages (from requests->simpletransformers) (2021.10.8)\n",
      "Requirement already satisfied: Click!=8.0.0,>=7.0 in j:\\program files\\anaconda3\\envs\\python37\\lib\\site-packages (from wandb>=0.10.32->simpletransformers) (8.1.3)\n",
      "Requirement already satisfied: shortuuid>=0.5.0 in j:\\program files\\anaconda3\\envs\\python37\\lib\\site-packages (from wandb>=0.10.32->simpletransformers) (1.0.11)\n",
      "Requirement already satisfied: sentry-sdk>=1.0.0 in j:\\program files\\anaconda3\\envs\\python37\\lib\\site-packages (from wandb>=0.10.32->simpletransformers) (1.12.0)\n",
      "Requirement already satisfied: pathtools in j:\\program files\\anaconda3\\envs\\python37\\lib\\site-packages (from wandb>=0.10.32->simpletransformers) (0.1.2)\n",
      "Requirement already satisfied: promise<3,>=2.0 in j:\\program files\\anaconda3\\envs\\python37\\lib\\site-packages (from wandb>=0.10.32->simpletransformers) (2.3)\n",
      "Requirement already satisfied: psutil>=5.0.0 in j:\\program files\\anaconda3\\envs\\python37\\lib\\site-packages (from wandb>=0.10.32->simpletransformers) (5.9.4)\n",
      "Requirement already satisfied: setproctitle in j:\\program files\\anaconda3\\envs\\python37\\lib\\site-packages (from wandb>=0.10.32->simpletransformers) (1.3.2)\n",
      "Requirement already satisfied: setuptools in j:\\program files\\anaconda3\\envs\\python37\\lib\\site-packages (from wandb>=0.10.32->simpletransformers) (58.0.4)\n",
      "Requirement already satisfied: protobuf!=4.21.0,<5,>=3.19.0 in j:\\program files\\anaconda3\\envs\\python37\\lib\\site-packages (from wandb>=0.10.32->simpletransformers) (3.19.6)\n",
      "Requirement already satisfied: docker-pycreds>=0.4.0 in j:\\program files\\anaconda3\\envs\\python37\\lib\\site-packages (from wandb>=0.10.32->simpletransformers) (0.4.0)\n",
      "Requirement already satisfied: GitPython>=1.0.0 in j:\\program files\\anaconda3\\envs\\python37\\lib\\site-packages (from wandb>=0.10.32->simpletransformers) (3.1.29)\n",
      "Requirement already satisfied: gitdb<5,>=4.0.1 in j:\\program files\\anaconda3\\envs\\python37\\lib\\site-packages (from GitPython>=1.0.0->wandb>=0.10.32->simpletransformers) (4.0.9)\n",
      "Requirement already satisfied: smmap<6,>=3.0.1 in j:\\program files\\anaconda3\\envs\\python37\\lib\\site-packages (from gitdb<5,>=4.0.1->GitPython>=1.0.0->wandb>=0.10.32->simpletransformers) (5.0.0)\n",
      "Requirement already satisfied: zipp>=0.5 in j:\\program files\\anaconda3\\envs\\python37\\lib\\site-packages (from importlib-metadata->datasets) (3.7.0)\n",
      "Requirement already satisfied: threadpoolctl>=2.0.0 in j:\\program files\\anaconda3\\envs\\python37\\lib\\site-packages (from scikit-learn->simpletransformers) (3.1.0)\n",
      "Requirement already satisfied: joblib>=0.11 in j:\\program files\\anaconda3\\envs\\python37\\lib\\site-packages (from scikit-learn->simpletransformers) (1.2.0)\n",
      "Requirement already satisfied: rich>=10.11.0 in j:\\program files\\anaconda3\\envs\\python37\\lib\\site-packages (from streamlit->simpletransformers) (12.6.0)\n",
      "Requirement already satisfied: tornado>=5.0 in j:\\program files\\anaconda3\\envs\\python37\\lib\\site-packages (from streamlit->simpletransformers) (6.1)\n",
      "Requirement already satisfied: pillow>=6.2.0 in j:\\program files\\anaconda3\\envs\\python37\\lib\\site-packages (from streamlit->simpletransformers) (9.0.1)\n",
      "Requirement already satisfied: pydeck>=0.1.dev5 in j:\\program files\\anaconda3\\envs\\python37\\lib\\site-packages (from streamlit->simpletransformers) (0.8.0)\n",
      "Requirement already satisfied: validators>=0.2 in j:\\program files\\anaconda3\\envs\\python37\\lib\\site-packages (from streamlit->simpletransformers) (0.20.0)\n",
      "Requirement already satisfied: semver in j:\\program files\\anaconda3\\envs\\python37\\lib\\site-packages (from streamlit->simpletransformers) (2.13.0)\n",
      "Requirement already satisfied: toml in j:\\program files\\anaconda3\\envs\\python37\\lib\\site-packages (from streamlit->simpletransformers) (0.10.2)\n",
      "Requirement already satisfied: tzlocal>=1.1 in j:\\program files\\anaconda3\\envs\\python37\\lib\\site-packages (from streamlit->simpletransformers) (4.2)\n",
      "Requirement already satisfied: pympler>=0.9 in j:\\program files\\anaconda3\\envs\\python37\\lib\\site-packages (from streamlit->simpletransformers) (1.0.1)\n",
      "Requirement already satisfied: altair>=3.2.0 in j:\\program files\\anaconda3\\envs\\python37\\lib\\site-packages (from streamlit->simpletransformers) (4.2.0)\n",
      "Requirement already satisfied: blinker>=1.0.0 in j:\\program files\\anaconda3\\envs\\python37\\lib\\site-packages (from streamlit->simpletransformers) (1.5)\n",
      "Requirement already satisfied: cachetools>=4.0 in j:\\program files\\anaconda3\\envs\\python37\\lib\\site-packages (from streamlit->simpletransformers) (5.2.0)\n",
      "Requirement already satisfied: watchdog in j:\\program files\\anaconda3\\envs\\python37\\lib\\site-packages (from streamlit->simpletransformers) (2.2.0)\n",
      "Requirement already satisfied: toolz in j:\\program files\\anaconda3\\envs\\python37\\lib\\site-packages (from altair>=3.2.0->streamlit->simpletransformers) (0.12.0)\n",
      "Requirement already satisfied: entrypoints in j:\\program files\\anaconda3\\envs\\python37\\lib\\site-packages (from altair>=3.2.0->streamlit->simpletransformers) (0.3)\n",
      "Requirement already satisfied: jsonschema>=3.0 in j:\\program files\\anaconda3\\envs\\python37\\lib\\site-packages (from altair>=3.2.0->streamlit->simpletransformers) (3.2.0)\n",
      "Requirement already satisfied: jinja2 in j:\\program files\\anaconda3\\envs\\python37\\lib\\site-packages (from altair>=3.2.0->streamlit->simpletransformers) (3.0.2)\n",
      "Requirement already satisfied: pyrsistent>=0.14.0 in j:\\program files\\anaconda3\\envs\\python37\\lib\\site-packages (from jsonschema>=3.0->altair>=3.2.0->streamlit->simpletransformers) (0.18.0)\n",
      "Requirement already satisfied: MarkupSafe>=2.0 in j:\\program files\\anaconda3\\envs\\python37\\lib\\site-packages (from jinja2->altair>=3.2.0->streamlit->simpletransformers) (2.1.1)\n",
      "Requirement already satisfied: pygments<3.0.0,>=2.6.0 in j:\\program files\\anaconda3\\envs\\python37\\lib\\site-packages (from rich>=10.11.0->streamlit->simpletransformers) (2.11.2)\n",
      "Requirement already satisfied: commonmark<0.10.0,>=0.9.0 in j:\\program files\\anaconda3\\envs\\python37\\lib\\site-packages (from rich>=10.11.0->streamlit->simpletransformers) (0.9.1)\n",
      "Requirement already satisfied: tzdata in j:\\program files\\anaconda3\\envs\\python37\\lib\\site-packages (from tzlocal>=1.1->streamlit->simpletransformers) (2022.7)\n",
      "Requirement already satisfied: pytz-deprecation-shim in j:\\program files\\anaconda3\\envs\\python37\\lib\\site-packages (from tzlocal>=1.1->streamlit->simpletransformers) (0.1.0.post0)\n",
      "Requirement already satisfied: backports.zoneinfo in j:\\program files\\anaconda3\\envs\\python37\\lib\\site-packages (from tzlocal>=1.1->streamlit->simpletransformers) (0.2.1)\n",
      "Requirement already satisfied: decorator>=3.4.0 in j:\\program files\\anaconda3\\envs\\python37\\lib\\site-packages (from validators>=0.2->streamlit->simpletransformers) (5.1.1)\n",
      "Requirement already satisfied: grpcio>=1.24.3 in j:\\program files\\anaconda3\\envs\\python37\\lib\\site-packages (from tensorboard->simpletransformers) (1.49.1)\n",
      "Requirement already satisfied: markdown>=2.6.8 in j:\\program files\\anaconda3\\envs\\python37\\lib\\site-packages (from tensorboard->simpletransformers) (3.4.1)\n",
      "Requirement already satisfied: google-auth-oauthlib<0.5,>=0.4.1 in j:\\program files\\anaconda3\\envs\\python37\\lib\\site-packages (from tensorboard->simpletransformers) (0.4.6)\n",
      "Requirement already satisfied: google-auth<3,>=1.6.3 in j:\\program files\\anaconda3\\envs\\python37\\lib\\site-packages (from tensorboard->simpletransformers) (2.16.1)\n",
      "Requirement already satisfied: absl-py>=0.4 in j:\\program files\\anaconda3\\envs\\python37\\lib\\site-packages (from tensorboard->simpletransformers) (1.3.0)\n",
      "Requirement already satisfied: tensorboard-data-server<0.7.0,>=0.6.0 in j:\\program files\\anaconda3\\envs\\python37\\lib\\site-packages (from tensorboard->simpletransformers) (0.6.1)\n",
      "Requirement already satisfied: tensorboard-plugin-wit>=1.6.0 in j:\\program files\\anaconda3\\envs\\python37\\lib\\site-packages (from tensorboard->simpletransformers) (1.8.1)\n",
      "Requirement already satisfied: wheel>=0.26 in j:\\program files\\anaconda3\\envs\\python37\\lib\\site-packages (from tensorboard->simpletransformers) (0.37.1)\n",
      "Requirement already satisfied: werkzeug>=1.0.1 in j:\\program files\\anaconda3\\envs\\python37\\lib\\site-packages (from tensorboard->simpletransformers) (2.2.2)\n",
      "Requirement already satisfied: pyasn1-modules>=0.2.1 in j:\\program files\\anaconda3\\envs\\python37\\lib\\site-packages (from google-auth<3,>=1.6.3->tensorboard->simpletransformers) (0.2.8)\n",
      "Requirement already satisfied: rsa<5,>=3.1.4 in j:\\program files\\anaconda3\\envs\\python37\\lib\\site-packages (from google-auth<3,>=1.6.3->tensorboard->simpletransformers) (4.9)\n",
      "Requirement already satisfied: requests-oauthlib>=0.7.0 in j:\\program files\\anaconda3\\envs\\python37\\lib\\site-packages (from google-auth-oauthlib<0.5,>=0.4.1->tensorboard->simpletransformers) (1.3.1)\n",
      "Requirement already satisfied: pyasn1<0.5.0,>=0.4.6 in j:\\program files\\anaconda3\\envs\\python37\\lib\\site-packages (from pyasn1-modules>=0.2.1->google-auth<3,>=1.6.3->tensorboard->simpletransformers) (0.4.8)\n",
      "Requirement already satisfied: oauthlib>=3.0.0 in j:\\program files\\anaconda3\\envs\\python37\\lib\\site-packages (from requests-oauthlib>=0.7.0->google-auth-oauthlib<0.5,>=0.4.1->tensorboard->simpletransformers) (3.2.2)\n"
     ]
    },
    {
     "name": "stdout",
     "output_type": "stream",
     "text": [
      "Requirement already satisfied: transformers in c:\\users\\joy\\appdata\\roaming\\python\\python37\\site-packages (4.25.1)\n",
      "Requirement already satisfied: sentencepiece in j:\\program files\\anaconda3\\envs\\python37\\lib\\site-packages (0.1.95)\n",
      "Requirement already satisfied: requests in j:\\program files\\anaconda3\\envs\\python37\\lib\\site-packages (from transformers) (2.27.1)\n",
      "Requirement already satisfied: importlib-metadata in j:\\program files\\anaconda3\\envs\\python37\\lib\\site-packages (from transformers) (5.1.0)\n",
      "Requirement already satisfied: pyyaml>=5.1 in j:\\program files\\anaconda3\\envs\\python37\\lib\\site-packages (from transformers) (6.0)\n",
      "Requirement already satisfied: tqdm>=4.27 in j:\\program files\\anaconda3\\envs\\python37\\lib\\site-packages (from transformers) (4.64.1)\n",
      "Requirement already satisfied: huggingface-hub<1.0,>=0.10.0 in c:\\users\\joy\\appdata\\roaming\\python\\python37\\site-packages (from transformers) (0.11.1)\n",
      "Requirement already satisfied: packaging>=20.0 in j:\\program files\\anaconda3\\envs\\python37\\lib\\site-packages (from transformers) (21.3)\n",
      "Requirement already satisfied: regex!=2019.12.17 in j:\\program files\\anaconda3\\envs\\python37\\lib\\site-packages (from transformers) (2022.9.13)\n",
      "Requirement already satisfied: numpy>=1.17 in j:\\program files\\anaconda3\\envs\\python37\\lib\\site-packages (from transformers) (1.21.4)\n",
      "Requirement already satisfied: tokenizers!=0.11.3,<0.14,>=0.11.1 in j:\\program files\\anaconda3\\envs\\python37\\lib\\site-packages (from transformers) (0.13.2)\n",
      "Requirement already satisfied: filelock in j:\\program files\\anaconda3\\envs\\python37\\lib\\site-packages (from transformers) (3.8.0)\n",
      "Requirement already satisfied: typing-extensions>=3.7.4.3 in j:\\program files\\anaconda3\\envs\\python37\\lib\\site-packages (from huggingface-hub<1.0,>=0.10.0->transformers) (4.4.0)\n",
      "Requirement already satisfied: pyparsing!=3.0.5,>=2.0.2 in j:\\program files\\anaconda3\\envs\\python37\\lib\\site-packages (from packaging>=20.0->transformers) (3.0.4)\n",
      "Requirement already satisfied: colorama in j:\\program files\\anaconda3\\envs\\python37\\lib\\site-packages (from tqdm>=4.27->transformers) (0.4.4)\n",
      "Requirement already satisfied: zipp>=0.5 in j:\\program files\\anaconda3\\envs\\python37\\lib\\site-packages (from importlib-metadata->transformers) (3.7.0)\n",
      "Requirement already satisfied: charset-normalizer~=2.0.0 in j:\\program files\\anaconda3\\envs\\python37\\lib\\site-packages (from requests->transformers) (2.0.12)\n",
      "Requirement already satisfied: urllib3<1.27,>=1.21.1 in j:\\program files\\anaconda3\\envs\\python37\\lib\\site-packages (from requests->transformers) (1.26.13)\n",
      "Requirement already satisfied: certifi>=2017.4.17 in j:\\program files\\anaconda3\\envs\\python37\\lib\\site-packages (from requests->transformers) (2021.10.8)\n",
      "Requirement already satisfied: idna<4,>=2.5 in j:\\program files\\anaconda3\\envs\\python37\\lib\\site-packages (from requests->transformers) (3.3)\n"
     ]
    },
    {
     "name": "stderr",
     "output_type": "stream",
     "text": [
      "Generating outputs:   0%|          | 0/1 [00:00<?, ?it/s]C:\\Users\\JOY\\AppData\\Roaming\\Python\\Python37\\site-packages\\transformers\\tokenization_utils_base.py:3704: FutureWarning: \n",
      "`prepare_seq2seq_batch` is deprecated and will be removed in version 5 of HuggingFace Transformers. Use the regular\n",
      "`__call__` method to prepare your inputs and targets.\n",
      "\n",
      "Here is a short example:\n",
      "\n",
      "model_inputs = tokenizer(src_texts, text_target=tgt_texts, ...)\n",
      "\n",
      "If you either need to use different keyword arguments for the source and target texts, you should do two calls like\n",
      "this:\n",
      "\n",
      "model_inputs = tokenizer(src_texts, ...)\n",
      "labels = tokenizer(text_target=tgt_texts, ...)\n",
      "model_inputs[\"labels\"] = labels[\"input_ids\"]\n",
      "\n",
      "See the documentation of your specific tokenizer for more details on the specific arguments to the tokenizer of choice.\n",
      "For a more complete example, see the implementation of `prepare_seq2seq_batch`.\n",
      "\n",
      "  warnings.warn(formatted_warning, FutureWarning)\n",
      "Generating outputs: 100%|██████████| 1/1 [00:01<00:00,  1.21s/it]\n",
      "Decoding outputs: 100%|██████████| 1/1 [00:07<00:00,  7.36s/it]\n",
      "[nltk_data] Downloading package punkt to\n",
      "[nltk_data]     C:\\Users\\JOY\\AppData\\Roaming\\nltk_data...\n",
      "[nltk_data]   Package punkt is already up-to-date!\n"
     ]
    },
    {
     "name": "stdout",
     "output_type": "stream",
     "text": [
      "[\"I'm tired of the school shootings by black people\"]\n"
     ]
    },
    {
     "name": "stderr",
     "output_type": "stream",
     "text": [
      "Generating outputs: 100%|██████████| 1/1 [00:00<00:00,  1.24it/s]\n",
      "Decoding outputs: 100%|██████████| 1/1 [00:06<00:00,  6.42s/it]\n",
      "J:\\Program Files\\Anaconda3\\envs\\python37\\lib\\site-packages\\nltk\\translate\\bleu_score.py:515: UserWarning: \n",
      "The hypothesis contains 0 counts of 2-gram overlaps.\n",
      "Therefore the BLEU score evaluates to 0, independently of\n",
      "how many N-gram overlaps of lower order it contains.\n",
      "Consider using lower n-gram order or use SmoothingFunction()\n",
      "  warnings.warn(_msg)\n",
      "J:\\Program Files\\Anaconda3\\envs\\python37\\lib\\site-packages\\nltk\\translate\\bleu_score.py:515: UserWarning: \n",
      "The hypothesis contains 0 counts of 3-gram overlaps.\n",
      "Therefore the BLEU score evaluates to 0, independently of\n",
      "how many N-gram overlaps of lower order it contains.\n",
      "Consider using lower n-gram order or use SmoothingFunction()\n",
      "  warnings.warn(_msg)\n",
      "J:\\Program Files\\Anaconda3\\envs\\python37\\lib\\site-packages\\nltk\\translate\\bleu_score.py:515: UserWarning: \n",
      "The hypothesis contains 0 counts of 4-gram overlaps.\n",
      "Therefore the BLEU score evaluates to 0, independently of\n",
      "how many N-gram overlaps of lower order it contains.\n",
      "Consider using lower n-gram order or use SmoothingFunction()\n",
      "  warnings.warn(_msg)\n"
     ]
    },
    {
     "name": "stdout",
     "output_type": "stream",
     "text": [
      "BLEU score -> 1.1640469867513693e-231 text -> ['I', 'will', 'kill', 'you'] pred -> ['I', 'will', 'not', 'let', 'you', 'down']\n",
      "CS score -> 0.0 text -> I will kill you pred -> I will not let you down\n"
     ]
    },
    {
     "name": "stderr",
     "output_type": "stream",
     "text": [
      "J:\\Program Files\\Anaconda3\\envs\\python37\\lib\\site-packages\\sklearn\\feature_extraction\\text.py:401: UserWarning: Your stop_words may be inconsistent with your preprocessing. Tokenizing the stop words generated tokens ['abov', 'afterward', 'alon', 'alreadi', 'alway', 'ani', 'anoth', 'anyon', 'anyth', 'anywher', 'becam', 'becaus', 'becom', 'befor', 'besid', 'cri', 'describ', 'dure', 'els', 'elsewher', 'empti', 'everi', 'everyon', 'everyth', 'everywher', 'fifti', 'formerli', 'forti', 'ha', 'henc', 'hereaft', 'herebi', 'hi', 'howev', 'hundr', 'inde', 'latterli', 'mani', 'meanwhil', 'moreov', 'mostli', 'nobodi', 'noon', 'noth', 'nowher', 'onc', 'onli', 'otherwis', 'ourselv', 'perhap', 'pleas', 'seriou', 'sever', 'sinc', 'sincer', 'sixti', 'someon', 'someth', 'sometim', 'somewher', 'themselv', 'thenc', 'thereaft', 'therebi', 'therefor', 'thi', 'thu', 'togeth', 'twelv', 'twenti', 'veri', 'wa', 'whatev', 'whenc', 'whenev', 'wherea', 'whereaft', 'wherebi', 'wherev', 'whi', 'yourselv'] not in stop_words.\n",
      "  % sorted(inconsistent)\n"
     ]
    }
   ],
   "source": [
    "#Importing detoxification function from detox file\n",
    "from detox import detoxification"
   ]
  },
  {
   "cell_type": "markdown",
   "metadata": {},
   "source": [
    "### UI Action Function"
   ]
  },
  {
   "cell_type": "code",
   "execution_count": 30,
   "metadata": {},
   "outputs": [],
   "source": [
    "def score_comment(comment):\n",
    "    fcomment = preprocessingfilters(comment)\n",
    "    comment1 = tokenizer.texts_to_sequences([comment])\n",
    "    comment1 = tf.keras.preprocessing.sequence.pad_sequences(comment1, maxlen=max_len)\n",
    "    \n",
    "    results = model.predict(np.expand_dims(comment1[0], 0))\n",
    "    \n",
    "    if results[0][0] > 0.1:\n",
    "        pred = detoxification(comment)\n",
    "        pred = (str(pred)[1:-1]).strip('[\\]\",')\n",
    "        pred = str(pred)\n",
    "    else:\n",
    "        pred = \"Non Toxic Sentence\" \n",
    "\n",
    "    d = []\n",
    "    for idx, col in enumerate(df.columns[2:]):\n",
    "        d.append(\n",
    "            {\n",
    "                'Catagory': col,\n",
    "                'Result': results[0][idx] > 0.1,\n",
    "                'Percent':  round((results[0][idx])*100,2)\n",
    "            }\n",
    "        )\n",
    "\n",
    "    d = pd.DataFrame(d)      \n",
    "        \n",
    "    return fcomment,d,pred"
   ]
  },
  {
   "cell_type": "markdown",
   "metadata": {},
   "source": [
    "### UI Modeling"
   ]
  },
  {
   "cell_type": "code",
   "execution_count": 31,
   "metadata": {},
   "outputs": [
    {
     "name": "stderr",
     "output_type": "stream",
     "text": [
      "J:\\Program Files\\Anaconda3\\envs\\python37\\lib\\site-packages\\gradio\\inputs.py:27: UserWarning: Usage of gradio.inputs is deprecated, and will not be supported in the future, please import your component from gradio.components\n",
      "  \"Usage of gradio.inputs is deprecated, and will not be supported in the future, please import your component from gradio.components\",\n",
      "J:\\Program Files\\Anaconda3\\envs\\python37\\lib\\site-packages\\gradio\\deprecation.py:40: UserWarning: `optional` parameter is deprecated, and it has no effect\n",
      "  warnings.warn(value)\n",
      "J:\\Program Files\\Anaconda3\\envs\\python37\\lib\\site-packages\\gradio\\deprecation.py:40: UserWarning: `numeric` parameter is deprecated, and it has no effect\n",
      "  warnings.warn(value)\n"
     ]
    }
   ],
   "source": [
    "with gr.Blocks() as interface:\n",
    "    name = gr.inputs.Textbox(lines=2, placeholder='Enter Your Sentence', label = \"Input Sentence\")\n",
    "    greet_btn = gr.Button(\"Submit\")\n",
    "    output = [gr.Textbox(label=\"Did you mean?\"),gr.Dataframe(label=\"Toxicity Detection & Classification\",headers=['Catagory', 'Result', 'Percent']) , gr.Textbox(label=\"Detoxification\")]\n",
    "    greet_btn.click(fn=score_comment, inputs=name, outputs=output)"
   ]
  },
  {
   "cell_type": "markdown",
   "metadata": {},
   "source": [
    "### UI Launch"
   ]
  },
  {
   "cell_type": "code",
   "execution_count": 32,
   "metadata": {},
   "outputs": [
    {
     "name": "stdout",
     "output_type": "stream",
     "text": [
      "Running on local URL:  http://127.0.0.1:7861\n",
      "Running on public URL: https://07a7a3681080d53e.gradio.app\n",
      "\n",
      "This share link expires in 72 hours. For free permanent hosting and GPU upgrades (NEW!), check out Spaces: https://huggingface.co/spaces\n"
     ]
    },
    {
     "data": {
      "text/html": [
       "<div><iframe src=\"https://07a7a3681080d53e.gradio.app\" width=\"100%\" height=\"500\" allow=\"autoplay; camera; microphone; clipboard-read; clipboard-write;\" frameborder=\"0\" allowfullscreen></iframe></div>"
      ],
      "text/plain": [
       "<IPython.core.display.HTML object>"
      ]
     },
     "metadata": {},
     "output_type": "display_data"
    },
    {
     "data": {
      "text/plain": []
     },
     "execution_count": 32,
     "metadata": {},
     "output_type": "execute_result"
    }
   ],
   "source": [
    "interface.launch(share=True)"
   ]
  }
 ],
 "metadata": {
  "colab": {
   "provenance": []
  },
  "kernelspec": {
   "display_name": "Python 3 (ipykernel)",
   "language": "python",
   "name": "python3"
  },
  "language_info": {
   "codemirror_mode": {
    "name": "ipython",
    "version": 3
   },
   "file_extension": ".py",
   "mimetype": "text/x-python",
   "name": "python",
   "nbconvert_exporter": "python",
   "pygments_lexer": "ipython3",
   "version": "3.7.11"
  }
 },
 "nbformat": 4,
 "nbformat_minor": 1
}
