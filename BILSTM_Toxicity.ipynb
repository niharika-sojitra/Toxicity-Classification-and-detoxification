{
 "cells": [
  {
   "cell_type": "markdown",
   "metadata": {},
   "source": [
    "### Install Prerequisite"
   ]
  },
  {
   "cell_type": "code",
   "execution_count": 1,
   "metadata": {
    "jupyter": {
     "outputs_hidden": true
    },
    "tags": []
   },
   "outputs": [
    {
     "name": "stdout",
     "output_type": "stream",
     "text": [
      "Requirement already satisfied: tensorflow in j:\\program files\\anaconda3\\envs\\python37\\lib\\site-packages (2.7.0)\n",
      "Requirement already satisfied: tensorflow-gpu in j:\\program files\\anaconda3\\envs\\python37\\lib\\site-packages (2.7.0)\n",
      "Requirement already satisfied: pandas in j:\\program files\\anaconda3\\envs\\python37\\lib\\site-packages (1.3.4)\n",
      "Requirement already satisfied: matplotlib in j:\\program files\\anaconda3\\envs\\python37\\lib\\site-packages (3.5.1)\n",
      "Requirement already satisfied: sklearn in j:\\program files\\anaconda3\\envs\\python37\\lib\\site-packages (0.0)\n",
      "Requirement already satisfied: Caribe in j:\\program files\\anaconda3\\envs\\python37\\lib\\site-packages (0.8.5)\n",
      "Requirement already satisfied: tensorboard~=2.6 in j:\\program files\\anaconda3\\envs\\python37\\lib\\site-packages (from tensorflow) (2.10.1)\n",
      "Requirement already satisfied: google-pasta>=0.1.1 in j:\\program files\\anaconda3\\envs\\python37\\lib\\site-packages (from tensorflow) (0.2.0)\n",
      "Requirement already satisfied: wheel<1.0,>=0.32.0 in j:\\program files\\anaconda3\\envs\\python37\\lib\\site-packages (from tensorflow) (0.37.1)\n",
      "Requirement already satisfied: tensorflow-io-gcs-filesystem>=0.21.0 in j:\\program files\\anaconda3\\envs\\python37\\lib\\site-packages (from tensorflow) (0.27.0)\n",
      "Requirement already satisfied: termcolor>=1.1.0 in j:\\program files\\anaconda3\\envs\\python37\\lib\\site-packages (from tensorflow) (2.0.1)\n",
      "Requirement already satisfied: h5py>=2.9.0 in j:\\program files\\anaconda3\\envs\\python37\\lib\\site-packages (from tensorflow) (3.7.0)\n",
      "Requirement already satisfied: keras<2.8,>=2.7.0rc0 in j:\\program files\\anaconda3\\envs\\python37\\lib\\site-packages (from tensorflow) (2.7.0)\n",
      "Requirement already satisfied: six>=1.12.0 in j:\\program files\\anaconda3\\envs\\python37\\lib\\site-packages (from tensorflow) (1.16.0)\n",
      "Requirement already satisfied: wrapt>=1.11.0 in j:\\program files\\anaconda3\\envs\\python37\\lib\\site-packages (from tensorflow) (1.14.1)\n",
      "Requirement already satisfied: flatbuffers<3.0,>=1.12 in j:\\program files\\anaconda3\\envs\\python37\\lib\\site-packages (from tensorflow) (2.0.7)\n",
      "Requirement already satisfied: protobuf>=3.9.2 in j:\\program files\\anaconda3\\envs\\python37\\lib\\site-packages (from tensorflow) (3.19.6)\n",
      "Requirement already satisfied: tensorflow-estimator<2.8,~=2.7.0rc0 in j:\\program files\\anaconda3\\envs\\python37\\lib\\site-packages (from tensorflow) (2.7.0)\n",
      "Requirement already satisfied: astunparse>=1.6.0 in j:\\program files\\anaconda3\\envs\\python37\\lib\\site-packages (from tensorflow) (1.6.3)\n",
      "Requirement already satisfied: absl-py>=0.4.0 in j:\\program files\\anaconda3\\envs\\python37\\lib\\site-packages (from tensorflow) (1.3.0)\n",
      "Requirement already satisfied: keras-preprocessing>=1.1.1 in j:\\program files\\anaconda3\\envs\\python37\\lib\\site-packages (from tensorflow) (1.1.2)\n",
      "Requirement already satisfied: opt-einsum>=2.3.2 in j:\\program files\\anaconda3\\envs\\python37\\lib\\site-packages (from tensorflow) (3.3.0)\n",
      "Requirement already satisfied: grpcio<2.0,>=1.24.3 in j:\\program files\\anaconda3\\envs\\python37\\lib\\site-packages (from tensorflow) (1.49.1)\n",
      "Requirement already satisfied: libclang>=9.0.1 in j:\\program files\\anaconda3\\envs\\python37\\lib\\site-packages (from tensorflow) (14.0.6)\n",
      "Requirement already satisfied: gast<0.5.0,>=0.2.1 in j:\\program files\\anaconda3\\envs\\python37\\lib\\site-packages (from tensorflow) (0.4.0)\n",
      "Requirement already satisfied: typing-extensions>=3.6.6 in j:\\program files\\anaconda3\\envs\\python37\\lib\\site-packages (from tensorflow) (4.4.0)\n",
      "Requirement already satisfied: numpy>=1.14.5 in j:\\program files\\anaconda3\\envs\\python37\\lib\\site-packages (from tensorflow) (1.21.4)\n",
      "Requirement already satisfied: pytz>=2017.3 in j:\\program files\\anaconda3\\envs\\python37\\lib\\site-packages (from pandas) (2021.3)\n",
      "Requirement already satisfied: python-dateutil>=2.7.3 in j:\\program files\\anaconda3\\envs\\python37\\lib\\site-packages (from pandas) (2.8.2)\n",
      "Requirement already satisfied: cycler>=0.10 in j:\\program files\\anaconda3\\envs\\python37\\lib\\site-packages (from matplotlib) (0.11.0)\n",
      "Requirement already satisfied: kiwisolver>=1.0.1 in j:\\program files\\anaconda3\\envs\\python37\\lib\\site-packages (from matplotlib) (1.3.2)\n",
      "Requirement already satisfied: fonttools>=4.22.0 in j:\\program files\\anaconda3\\envs\\python37\\lib\\site-packages (from matplotlib) (4.29.1)\n",
      "Requirement already satisfied: pyparsing>=2.2.1 in j:\\program files\\anaconda3\\envs\\python37\\lib\\site-packages (from matplotlib) (3.0.4)\n",
      "Requirement already satisfied: packaging>=20.0 in j:\\program files\\anaconda3\\envs\\python37\\lib\\site-packages (from matplotlib) (21.3)\n",
      "Requirement already satisfied: pillow>=6.2.0 in j:\\program files\\anaconda3\\envs\\python37\\lib\\site-packages (from matplotlib) (9.0.1)\n",
      "Requirement already satisfied: scikit-learn in j:\\program files\\anaconda3\\envs\\python37\\lib\\site-packages (from sklearn) (1.0.1)\n",
      "Requirement already satisfied: nltk==3.6.3 in j:\\program files\\anaconda3\\envs\\python37\\lib\\site-packages (from Caribe) (3.6.3)\n",
      "Requirement already satisfied: requests>=2.25.1 in j:\\program files\\anaconda3\\envs\\python37\\lib\\site-packages (from Caribe) (2.27.1)\n",
      "Requirement already satisfied: gingerit==0.8.2 in j:\\program files\\anaconda3\\envs\\python37\\lib\\site-packages (from Caribe) (0.8.2)\n",
      "Requirement already satisfied: transformers>=4.15.0 in c:\\users\\joy\\appdata\\roaming\\python\\python37\\site-packages (from Caribe) (4.25.1)\n",
      "Requirement already satisfied: datasets in c:\\users\\joy\\appdata\\roaming\\python\\python37\\site-packages (from Caribe) (2.8.0)\n",
      "Requirement already satisfied: torch in j:\\program files\\anaconda3\\envs\\python37\\lib\\site-packages (from Caribe) (1.13.0)\n",
      "Requirement already satisfied: tqdm in j:\\program files\\anaconda3\\envs\\python37\\lib\\site-packages (from nltk==3.6.3->Caribe) (4.64.1)\n",
      "Requirement already satisfied: regex in j:\\program files\\anaconda3\\envs\\python37\\lib\\site-packages (from nltk==3.6.3->Caribe) (2022.9.13)\n",
      "Requirement already satisfied: click in j:\\program files\\anaconda3\\envs\\python37\\lib\\site-packages (from nltk==3.6.3->Caribe) (8.1.3)\n",
      "Requirement already satisfied: joblib in j:\\program files\\anaconda3\\envs\\python37\\lib\\site-packages (from nltk==3.6.3->Caribe) (1.1.0)\n",
      "Requirement already satisfied: idna<4,>=2.5 in j:\\program files\\anaconda3\\envs\\python37\\lib\\site-packages (from requests>=2.25.1->Caribe) (3.3)\n",
      "Requirement already satisfied: charset-normalizer~=2.0.0 in j:\\program files\\anaconda3\\envs\\python37\\lib\\site-packages (from requests>=2.25.1->Caribe) (2.0.12)\n",
      "Requirement already satisfied: urllib3<1.27,>=1.21.1 in j:\\program files\\anaconda3\\envs\\python37\\lib\\site-packages (from requests>=2.25.1->Caribe) (1.26.13)\n",
      "Requirement already satisfied: certifi>=2017.4.17 in j:\\program files\\anaconda3\\envs\\python37\\lib\\site-packages (from requests>=2.25.1->Caribe) (2021.10.8)\n",
      "Requirement already satisfied: werkzeug>=1.0.1 in j:\\program files\\anaconda3\\envs\\python37\\lib\\site-packages (from tensorboard~=2.6->tensorflow) (2.2.2)\n",
      "Requirement already satisfied: markdown>=2.6.8 in j:\\program files\\anaconda3\\envs\\python37\\lib\\site-packages (from tensorboard~=2.6->tensorflow) (3.4.1)\n",
      "Requirement already satisfied: tensorboard-data-server<0.7.0,>=0.6.0 in j:\\program files\\anaconda3\\envs\\python37\\lib\\site-packages (from tensorboard~=2.6->tensorflow) (0.6.1)\n",
      "Requirement already satisfied: google-auth-oauthlib<0.5,>=0.4.1 in j:\\program files\\anaconda3\\envs\\python37\\lib\\site-packages (from tensorboard~=2.6->tensorflow) (0.4.6)\n",
      "Requirement already satisfied: tensorboard-plugin-wit>=1.6.0 in j:\\program files\\anaconda3\\envs\\python37\\lib\\site-packages (from tensorboard~=2.6->tensorflow) (1.8.1)\n",
      "Requirement already satisfied: setuptools>=41.0.0 in j:\\program files\\anaconda3\\envs\\python37\\lib\\site-packages (from tensorboard~=2.6->tensorflow) (58.0.4)\n",
      "Requirement already satisfied: google-auth<3,>=1.6.3 in j:\\program files\\anaconda3\\envs\\python37\\lib\\site-packages (from tensorboard~=2.6->tensorflow) (2.16.1)\n",
      "Requirement already satisfied: rsa<5,>=3.1.4 in j:\\program files\\anaconda3\\envs\\python37\\lib\\site-packages (from google-auth<3,>=1.6.3->tensorboard~=2.6->tensorflow) (4.9)\n",
      "Requirement already satisfied: pyasn1-modules>=0.2.1 in j:\\program files\\anaconda3\\envs\\python37\\lib\\site-packages (from google-auth<3,>=1.6.3->tensorboard~=2.6->tensorflow) (0.2.8)\n",
      "Requirement already satisfied: cachetools<6.0,>=2.0.0 in j:\\program files\\anaconda3\\envs\\python37\\lib\\site-packages (from google-auth<3,>=1.6.3->tensorboard~=2.6->tensorflow) (5.2.0)\n",
      "Requirement already satisfied: requests-oauthlib>=0.7.0 in j:\\program files\\anaconda3\\envs\\python37\\lib\\site-packages (from google-auth-oauthlib<0.5,>=0.4.1->tensorboard~=2.6->tensorflow) (1.3.1)\n",
      "Requirement already satisfied: importlib-metadata>=4.4 in j:\\program files\\anaconda3\\envs\\python37\\lib\\site-packages (from markdown>=2.6.8->tensorboard~=2.6->tensorflow) (5.1.0)\n",
      "Requirement already satisfied: zipp>=0.5 in j:\\program files\\anaconda3\\envs\\python37\\lib\\site-packages (from importlib-metadata>=4.4->markdown>=2.6.8->tensorboard~=2.6->tensorflow) (3.7.0)\n",
      "Requirement already satisfied: pyasn1<0.5.0,>=0.4.6 in j:\\program files\\anaconda3\\envs\\python37\\lib\\site-packages (from pyasn1-modules>=0.2.1->google-auth<3,>=1.6.3->tensorboard~=2.6->tensorflow) (0.4.8)\n",
      "Requirement already satisfied: oauthlib>=3.0.0 in j:\\program files\\anaconda3\\envs\\python37\\lib\\site-packages (from requests-oauthlib>=0.7.0->google-auth-oauthlib<0.5,>=0.4.1->tensorboard~=2.6->tensorflow) (3.2.2)\n",
      "Requirement already satisfied: huggingface-hub<1.0,>=0.10.0 in c:\\users\\joy\\appdata\\roaming\\python\\python37\\site-packages (from transformers>=4.15.0->Caribe) (0.11.1)\n",
      "Requirement already satisfied: filelock in j:\\program files\\anaconda3\\envs\\python37\\lib\\site-packages (from transformers>=4.15.0->Caribe) (3.8.0)\n",
      "Requirement already satisfied: tokenizers!=0.11.3,<0.14,>=0.11.1 in j:\\program files\\anaconda3\\envs\\python37\\lib\\site-packages (from transformers>=4.15.0->Caribe) (0.13.2)\n",
      "Requirement already satisfied: pyyaml>=5.1 in j:\\program files\\anaconda3\\envs\\python37\\lib\\site-packages (from transformers>=4.15.0->Caribe) (6.0)\n",
      "Requirement already satisfied: colorama in j:\\program files\\anaconda3\\envs\\python37\\lib\\site-packages (from tqdm->nltk==3.6.3->Caribe) (0.4.4)\n",
      "Requirement already satisfied: MarkupSafe>=2.1.1 in j:\\program files\\anaconda3\\envs\\python37\\lib\\site-packages (from werkzeug>=1.0.1->tensorboard~=2.6->tensorflow) (2.1.1)\n",
      "Requirement already satisfied: aiohttp in c:\\users\\joy\\appdata\\roaming\\python\\python37\\site-packages (from datasets->Caribe) (3.8.3)\n",
      "Requirement already satisfied: xxhash in c:\\users\\joy\\appdata\\roaming\\python\\python37\\site-packages (from datasets->Caribe) (3.2.0)\n",
      "Requirement already satisfied: responses<0.19 in c:\\users\\joy\\appdata\\roaming\\python\\python37\\site-packages (from datasets->Caribe) (0.18.0)\n",
      "Requirement already satisfied: fsspec[http]>=2021.11.1 in c:\\users\\joy\\appdata\\roaming\\python\\python37\\site-packages (from datasets->Caribe) (2022.11.0)\n",
      "Requirement already satisfied: dill<0.3.7 in c:\\users\\joy\\appdata\\roaming\\python\\python37\\site-packages (from datasets->Caribe) (0.3.6)\n",
      "Requirement already satisfied: multiprocess in c:\\users\\joy\\appdata\\roaming\\python\\python37\\site-packages (from datasets->Caribe) (0.70.14)\n",
      "Requirement already satisfied: pyarrow>=6.0.0 in j:\\program files\\anaconda3\\envs\\python37\\lib\\site-packages (from datasets->Caribe) (10.0.1)\n",
      "Requirement already satisfied: asynctest==0.13.0 in c:\\users\\joy\\appdata\\roaming\\python\\python37\\site-packages (from aiohttp->datasets->Caribe) (0.13.0)\n",
      "Requirement already satisfied: yarl<2.0,>=1.0 in c:\\users\\joy\\appdata\\roaming\\python\\python37\\site-packages (from aiohttp->datasets->Caribe) (1.8.2)\n",
      "Requirement already satisfied: aiosignal>=1.1.2 in c:\\users\\joy\\appdata\\roaming\\python\\python37\\site-packages (from aiohttp->datasets->Caribe) (1.3.1)\n",
      "Requirement already satisfied: multidict<7.0,>=4.5 in c:\\users\\joy\\appdata\\roaming\\python\\python37\\site-packages (from aiohttp->datasets->Caribe) (6.0.4)\n",
      "Requirement already satisfied: attrs>=17.3.0 in j:\\program files\\anaconda3\\envs\\python37\\lib\\site-packages (from aiohttp->datasets->Caribe) (21.4.0)\n",
      "Requirement already satisfied: async-timeout<5.0,>=4.0.0a3 in c:\\users\\joy\\appdata\\roaming\\python\\python37\\site-packages (from aiohttp->datasets->Caribe) (4.0.2)\n",
      "Requirement already satisfied: frozenlist>=1.1.1 in c:\\users\\joy\\appdata\\roaming\\python\\python37\\site-packages (from aiohttp->datasets->Caribe) (1.3.3)\n",
      "Requirement already satisfied: scipy>=1.1.0 in j:\\program files\\anaconda3\\envs\\python37\\lib\\site-packages (from scikit-learn->sklearn) (1.7.3)\n",
      "Requirement already satisfied: threadpoolctl>=2.0.0 in j:\\program files\\anaconda3\\envs\\python37\\lib\\site-packages (from scikit-learn->sklearn) (3.1.0)\n"
     ]
    }
   ],
   "source": [
    "!pip install tensorflow tensorflow-gpu pandas matplotlib sklearn Caribe\n",
    "!pip install gradio jinja2"
   ]
  },
  {
   "cell_type": "markdown",
   "metadata": {},
   "source": [
    "### Importing Libraries"
   ]
  },
  {
   "cell_type": "code",
   "execution_count": 2,
   "metadata": {
    "tags": []
   },
   "outputs": [
    {
     "name": "stderr",
     "output_type": "stream",
     "text": [
      "J:\\Program Files\\Anaconda3\\envs\\python37\\lib\\site-packages\\tqdm\\auto.py:22: TqdmWarning: IProgress not found. Please update jupyter and ipywidgets. See https://ipywidgets.readthedocs.io/en/stable/user_install.html\n",
      "  from .autonotebook import tqdm as notebook_tqdm\n"
     ]
    }
   ],
   "source": [
    "import os\n",
    "import pandas as pd\n",
    "import numpy as np\n",
    "from matplotlib import pyplot as plt\n",
    "import sys\n",
    "sys.path.append('C:/Users/JOY/Desktop/Final Project')\n",
    "\n",
    "from keras import backend as K\n",
    "import tensorflow as tf\n",
    "from tensorflow.keras.layers import TextVectorization\n",
    "from tensorflow.keras.models import Sequential\n",
    "from tensorflow.keras.layers import LSTM, Dropout, Bidirectional, Dense, Embedding\n",
    "from tensorflow.keras.metrics import Precision, Recall, CategoricalAccuracy, Accuracy\n",
    "\n",
    "import Caribe as cb\n",
    "import gradio as gr"
   ]
  },
  {
   "cell_type": "markdown",
   "metadata": {},
   "source": [
    "### Data Loading"
   ]
  },
  {
   "cell_type": "code",
   "execution_count": 3,
   "metadata": {
    "tags": []
   },
   "outputs": [],
   "source": [
    "df = pd.read_csv(os.path.join('datasets/jigsaw-toxic-comment-classification-challenge','train.csv', 'train.csv'))\n",
    "\n",
    "column_names=[\"short\",\"long\"]\n",
    "df1 = pd.read_csv(\"datasets/abbrevations.csv\",names=column_names)\n",
    "df2 = pd.read_csv(\"datasets/emoji_df.csv\")\n",
    "df3 = pd.read_csv(\"datasets/twitterSlang.csv\")"
   ]
  },
  {
   "cell_type": "code",
   "execution_count": 4,
   "metadata": {
    "tags": []
   },
   "outputs": [
    {
     "data": {
      "text/html": [
       "<div>\n",
       "<style scoped>\n",
       "    .dataframe tbody tr th:only-of-type {\n",
       "        vertical-align: middle;\n",
       "    }\n",
       "\n",
       "    .dataframe tbody tr th {\n",
       "        vertical-align: top;\n",
       "    }\n",
       "\n",
       "    .dataframe thead th {\n",
       "        text-align: right;\n",
       "    }\n",
       "</style>\n",
       "<table border=\"1\" class=\"dataframe\">\n",
       "  <thead>\n",
       "    <tr style=\"text-align: right;\">\n",
       "      <th></th>\n",
       "      <th>id</th>\n",
       "      <th>comment_text</th>\n",
       "      <th>Toxic</th>\n",
       "      <th>Severe Toxic</th>\n",
       "      <th>Obscene</th>\n",
       "      <th>Threat</th>\n",
       "      <th>Insult</th>\n",
       "      <th>Identity Hate</th>\n",
       "    </tr>\n",
       "  </thead>\n",
       "  <tbody>\n",
       "    <tr>\n",
       "      <th>0</th>\n",
       "      <td>0000997932d777bf</td>\n",
       "      <td>Explanation\\nWhy the edits made under my usern...</td>\n",
       "      <td>0</td>\n",
       "      <td>0</td>\n",
       "      <td>0</td>\n",
       "      <td>0</td>\n",
       "      <td>0</td>\n",
       "      <td>0</td>\n",
       "    </tr>\n",
       "    <tr>\n",
       "      <th>1</th>\n",
       "      <td>000103f0d9cfb60f</td>\n",
       "      <td>D'aww! He matches this background colour I'm s...</td>\n",
       "      <td>0</td>\n",
       "      <td>0</td>\n",
       "      <td>0</td>\n",
       "      <td>0</td>\n",
       "      <td>0</td>\n",
       "      <td>0</td>\n",
       "    </tr>\n",
       "    <tr>\n",
       "      <th>2</th>\n",
       "      <td>000113f07ec002fd</td>\n",
       "      <td>Hey man, I'm really not trying to edit war. It...</td>\n",
       "      <td>0</td>\n",
       "      <td>0</td>\n",
       "      <td>0</td>\n",
       "      <td>0</td>\n",
       "      <td>0</td>\n",
       "      <td>0</td>\n",
       "    </tr>\n",
       "    <tr>\n",
       "      <th>3</th>\n",
       "      <td>0001b41b1c6bb37e</td>\n",
       "      <td>\"\\nMore\\nI can't make any real suggestions on ...</td>\n",
       "      <td>0</td>\n",
       "      <td>0</td>\n",
       "      <td>0</td>\n",
       "      <td>0</td>\n",
       "      <td>0</td>\n",
       "      <td>0</td>\n",
       "    </tr>\n",
       "    <tr>\n",
       "      <th>4</th>\n",
       "      <td>0001d958c54c6e35</td>\n",
       "      <td>You, sir, are my hero. Any chance you remember...</td>\n",
       "      <td>0</td>\n",
       "      <td>0</td>\n",
       "      <td>0</td>\n",
       "      <td>0</td>\n",
       "      <td>0</td>\n",
       "      <td>0</td>\n",
       "    </tr>\n",
       "  </tbody>\n",
       "</table>\n",
       "</div>"
      ],
      "text/plain": [
       "                 id                                       comment_text  Toxic  \\\n",
       "0  0000997932d777bf  Explanation\\nWhy the edits made under my usern...      0   \n",
       "1  000103f0d9cfb60f  D'aww! He matches this background colour I'm s...      0   \n",
       "2  000113f07ec002fd  Hey man, I'm really not trying to edit war. It...      0   \n",
       "3  0001b41b1c6bb37e  \"\\nMore\\nI can't make any real suggestions on ...      0   \n",
       "4  0001d958c54c6e35  You, sir, are my hero. Any chance you remember...      0   \n",
       "\n",
       "   Severe Toxic  Obscene  Threat  Insult  Identity Hate  \n",
       "0             0        0       0       0              0  \n",
       "1             0        0       0       0              0  \n",
       "2             0        0       0       0              0  \n",
       "3             0        0       0       0              0  \n",
       "4             0        0       0       0              0  "
      ]
     },
     "execution_count": 4,
     "metadata": {},
     "output_type": "execute_result"
    }
   ],
   "source": [
    "df.head()"
   ]
  },
  {
   "cell_type": "markdown",
   "metadata": {
    "tags": []
   },
   "source": [
    "### Vectorization"
   ]
  },
  {
   "cell_type": "code",
   "execution_count": 7,
   "metadata": {
    "tags": []
   },
   "outputs": [],
   "source": [
    "X = df['comment_text']\n",
    "y = df[df.columns[2:]].values"
   ]
  },
  {
   "cell_type": "code",
   "execution_count": 9,
   "metadata": {
    "tags": []
   },
   "outputs": [],
   "source": [
    "vectorizer = TextVectorization(max_tokens=200000,output_sequence_length=1800,output_mode='int')"
   ]
  },
  {
   "cell_type": "code",
   "execution_count": 10,
   "metadata": {
    "tags": []
   },
   "outputs": [],
   "source": [
    "vectorizer.adapt(X.values)"
   ]
  },
  {
   "cell_type": "code",
   "execution_count": 11,
   "metadata": {
    "tags": []
   },
   "outputs": [],
   "source": [
    "vectorized_text = vectorizer(X.values)"
   ]
  },
  {
   "cell_type": "code",
   "execution_count": 12,
   "metadata": {
    "tags": []
   },
   "outputs": [],
   "source": [
    "dataset = tf.data.Dataset.from_tensor_slices((vectorized_text, y))\n",
    "dataset = dataset.cache()\n",
    "dataset = dataset.shuffle(160000)\n",
    "dataset = dataset.batch(16)\n",
    "dataset = dataset.prefetch(8) "
   ]
  },
  {
   "cell_type": "code",
   "execution_count": 13,
   "metadata": {
    "tags": []
   },
   "outputs": [],
   "source": [
    "train = dataset.take(int(len(dataset)*.7))\n",
    "val = dataset.skip(int(len(dataset)*.7)).take(int(len(dataset)*.2))\n",
    "test = dataset.skip(int(len(dataset)*.9)).take(int(len(dataset)*.1))"
   ]
  },
  {
   "cell_type": "markdown",
   "metadata": {},
   "source": [
    "### BI-LSTM Sequential Model"
   ]
  },
  {
   "cell_type": "code",
   "execution_count": 33,
   "metadata": {
    "tags": []
   },
   "outputs": [],
   "source": [
    "model = Sequential()\n",
    "\n",
    "model.add(Embedding(MAX_FEATURES+1, 32))\n",
    "model.add(Bidirectional(LSTM(32, activation='tanh')))\n",
    "model.add(Dense(128, activation='relu'))\n",
    "model.add(Dense(256, activation='relu'))\n",
    "model.add(Dense(128, activation='relu'))\n",
    "model.add(Dense(6, activation='sigmoid'))"
   ]
  },
  {
   "cell_type": "markdown",
   "metadata": {},
   "source": [
    "### Summarize Model"
   ]
  },
  {
   "cell_type": "code",
   "execution_count": 34,
   "metadata": {
    "tags": []
   },
   "outputs": [],
   "source": [
    "model.compile(loss='BinaryCrossentropy', optimizer='Adam', metrics=['accuracy'])\n",
    "model.summary()"
   ]
  },
  {
   "cell_type": "markdown",
   "metadata": {},
   "source": [
    "### Train Model"
   ]
  },
  {
   "cell_type": "code",
   "execution_count": 36,
   "metadata": {
    "tags": []
   },
   "outputs": [
    {
     "name": "stdout",
     "output_type": "stream",
     "text": [
      "Epoch 1/5\n",
      "6981/6981 [==============================] - 2211s 279ms/step - loss: 0.0618 - accuracy: 0.9885 - val_loss: 0.0463 - val_accuracy: 0.9937\n",
      "Epoch 2/5\n",
      "6981/6981 [==============================] - 2028s 290ms/step - loss: 0.0458 - accuracy: 0.9887 - val_loss: 0.0387 - val_accuracy: 0.9947\n",
      "Epoch 3/5\n",
      "6981/6981 [==============================] - 1936s 277ms/step - loss: 0.0400 - accuracy: 0.9745 - val_loss: 0.0367 - val_accuracy: 0.9945\n",
      "Epoch 4/5\n",
      "6981/6981 [==============================] - 1928s 276ms/step - loss: 0.0357 - accuracy: 0.9850 - val_loss: 0.0325 - val_accuracy: 0.9938\n",
      "Epoch 5/5\n",
      "6981/6981 [==============================] - 1938s 278ms/step - loss: 0.0320 - accuracy: 0.9940 - val_loss: 0.0284 - val_accuracy: 0.9942\n"
     ]
    }
   ],
   "source": [
    "history = model.fit(train, epochs=5, validation_data=val)"
   ]
  },
  {
   "cell_type": "markdown",
   "metadata": {
    "tags": []
   },
   "source": [
    "### Ploting Accuracy vs Loss"
   ]
  },
  {
   "cell_type": "code",
   "execution_count": 38,
   "metadata": {
    "jupyter": {
     "outputs_hidden": true
    },
    "tags": []
   },
   "outputs": [
    {
     "data": {
      "text/plain": [
       "<Figure size 576x360 with 0 Axes>"
      ]
     },
     "metadata": {},
     "output_type": "display_data"
    },
    {
     "data": {
      "image/png": "[encoded data removed]",
      "text/plain": [
       "<Figure size 432x288 with 1 Axes>"
      ]
     },
     "metadata": {
      "needs_background": "light"
     },
     "output_type": "display_data"
    }
   ],
   "source": [
    "plt.figure(figsize=(8,5))\n",
    "pd.DataFrame(history.history).plot()\n",
    "plt.show()"
   ]
  },
  {
   "cell_type": "markdown",
   "metadata": {},
   "source": [
    "### Model Predictions"
   ]
  },
  {
   "cell_type": "code",
   "execution_count": 39,
   "metadata": {
    "tags": []
   },
   "outputs": [],
   "source": [
    "input_text = vectorizer('You freaking suck! I am going to hit you.')"
   ]
  },
  {
   "cell_type": "code",
   "execution_count": 40,
   "metadata": {
    "tags": []
   },
   "outputs": [],
   "source": [
    "res = model.predict(np.array([input_text]))"
   ]
  },
  {
   "cell_type": "code",
   "execution_count": 41,
   "metadata": {
    "jupyter": {
     "source_hidden": true
    }
   },
   "outputs": [
    {
     "data": {
      "text/plain": [
       "array([[1, 1, 1, 0, 1, 0]])"
      ]
     },
     "execution_count": 41,
     "metadata": {},
     "output_type": "execute_result"
    }
   ],
   "source": [
    "(res > 0.1).astype(int)"
   ]
  },
  {
   "cell_type": "markdown",
   "metadata": {},
   "source": [
    "### Save the Model"
   ]
  },
  {
   "cell_type": "code",
   "execution_count": 46,
   "metadata": {},
   "outputs": [],
   "source": [
    "model.save('models/toxicity052.h5')"
   ]
  },
  {
   "cell_type": "markdown",
   "metadata": {},
   "source": [
    "### Model Evaluation"
   ]
  },
  {
   "cell_type": "code",
   "execution_count": 113,
   "metadata": {
    "tags": []
   },
   "outputs": [],
   "source": [
    "model = tf.keras.models.load_model('models/toxicity052.h5')"
   ]
  },
  {
   "cell_type": "code",
   "execution_count": 115,
   "metadata": {
    "tags": []
   },
   "outputs": [],
   "source": [
    "pre = Precision()\n",
    "re = Recall()\n",
    "acc = CategoricalAccuracy()\n",
    "\n",
    "for batch in test.as_numpy_iterator(): \n",
    "    \n",
    "    X_true, y_true = batch\n",
    "    \n",
    "    yhat = model.predict(X_true)\n",
    "    \n",
    "    y_true = y_true.flatten()\n",
    "    yhat = yhat.flatten()\n",
    "    \n",
    "    pre.update_state(y_true, yhat)\n",
    "    re.update_state(y_true, yhat)\n",
    "    acc.update_state(y_true, yhat)\n",
    "\n",
    "F1 = 2 * ((pre.result().numpy()) * (re.result().numpy())) / ((pre.result().numpy()) + (re.result().numpy()))"
   ]
  },
  {
   "cell_type": "code",
   "execution_count": 116,
   "metadata": {
    "tags": []
   },
   "outputs": [
    {
     "name": "stdout",
     "output_type": "stream",
     "text": [
      "Precision: 0.8774193525314331, Recall:0.8343558311462402, Accuracy:0.5185556411743164, F1:0.8553459469890513\n"
     ]
    }
   ],
   "source": [
    "print(f'Precision: {pre.result().numpy()}, Recall:{re.result().numpy()}, Accuracy:{acc.result().numpy()}, F1:{F1}')"
   ]
  },
  {
   "cell_type": "markdown",
   "metadata": {},
   "source": [
    "### Pre-Processing Filters"
   ]
  },
  {
   "cell_type": "code",
   "execution_count": null,
   "metadata": {},
   "outputs": [],
   "source": [
    "def preprocessingfilters(comment):\n",
    "    print(\"\\nOriginal sentence : \" ,comment)\n",
    "\n",
    "    #Slang \n",
    "    for i in df3.loc[:, 'slang']:\n",
    "        comment = comment.lower()\n",
    "        if(i.lower() in comment.split(\" \")):\n",
    "            j = df3[i==df3['slang']]\n",
    "            k = j.iloc[-1].values\n",
    "\n",
    "        comment = comment.lower()\n",
    "        comment = comment.replace(i.lower(), k[1])\n",
    "        print(\"Slang Expanded sentence : \" ,comment)\n",
    "\n",
    "    # Abberivation\n",
    "    for i in df1.loc[:, 'short']:\n",
    "        comment = comment.lower()\n",
    "        if(i.lower() in comment.split(\" \")):\n",
    "            j = df1[i==df1['short']]\n",
    "            k = j.iloc[-1].values\n",
    "\n",
    "        comment = comment.lower()\n",
    "        comment = comment.replace(i.lower(), k[1])\n",
    "        print(\"Abberivation Expanded sentence : \" ,comment)\n",
    "\n",
    "    # Emojis\n",
    "    for i in df2.loc[:, 'emoji']:\n",
    "        if(i in comment):\n",
    "            j = df2[i==df2['emoji']]\n",
    "            k = j.iloc[-1].values\n",
    "\n",
    "        comment = comment.replace(i, \", having \" +k[1])\n",
    "        print(\"Emojis Expanded sentence : \" ,comment)\n",
    "\n",
    "    comment=cb.caribe_corrector(comment)\n",
    "    print(\"Correct sentence : \" ,comment)\n",
    "    return comment"
   ]
  },
  {
   "cell_type": "markdown",
   "metadata": {},
   "source": [
    "### Model Testing"
   ]
  },
  {
   "cell_type": "code",
   "execution_count": 14,
   "metadata": {},
   "outputs": [],
   "source": [
    "model = tf.keras.models.load_model('models/toxicity052.h5')"
   ]
  },
  {
   "cell_type": "code",
   "execution_count": 15,
   "metadata": {},
   "outputs": [],
   "source": [
    "comment = \"Black man killed a child\"\n",
    "\n",
    "comment = preprocessingfilters(comment)\n",
    "\n",
    "input_str = vectorizer(comment)"
   ]
  },
  {
   "cell_type": "code",
   "execution_count": 18,
   "metadata": {},
   "outputs": [],
   "source": [
    "results = model.predict(np.array([input_str]))"
   ]
  },
  {
   "cell_type": "code",
   "execution_count": 19,
   "metadata": {},
   "outputs": [
    {
     "data": {
      "text/plain": [
       "array([[0.8154944 , 0.01688255, 0.07371149, 0.0881749 , 0.27403554,\n",
       "        0.14557442]], dtype=float32)"
      ]
     },
     "execution_count": 19,
     "metadata": {},
     "output_type": "execute_result"
    }
   ],
   "source": [
    "results"
   ]
  },
  {
   "cell_type": "code",
   "execution_count": 20,
   "metadata": {
    "scrolled": true
   },
   "outputs": [
    {
     "name": "stdout",
     "output_type": "stream",
     "text": [
      "Toxic: True\n",
      "Severe Toxic: False\n",
      "Obscene: False\n",
      "Threat: False\n",
      "Insult: True\n",
      "Identity Hate: True\n",
      "\n"
     ]
    }
   ],
   "source": [
    "text = ''\n",
    "for idx, col in enumerate(df.columns[2:]):\n",
    "    text += '{}: {}\\n'.format(col, results[0][idx]>0.1)\n",
    "\n",
    "print(text)"
   ]
  },
  {
   "cell_type": "markdown",
   "metadata": {},
   "source": [
    "### User Interface"
   ]
  },
  {
   "cell_type": "code",
   "execution_count": 21,
   "metadata": {
    "jupyter": {
     "outputs_hidden": true
    },
    "tags": []
   },
   "outputs": [
    {
     "name": "stdout",
     "output_type": "stream",
     "text": [
      "Requirement already satisfied: gradio in j:\\program files\\anaconda3\\envs\\python37\\lib\\site-packages (3.11.0)\n",
      "Requirement already satisfied: jinja2 in j:\\program files\\anaconda3\\envs\\python37\\lib\\site-packages (3.0.2)\n",
      "Requirement already satisfied: pydub in j:\\program files\\anaconda3\\envs\\python37\\lib\\site-packages (from gradio) (0.25.1)\n",
      "Requirement already satisfied: h11<0.13,>=0.11 in j:\\program files\\anaconda3\\envs\\python37\\lib\\site-packages (from gradio) (0.12.0)\n",
      "Requirement already satisfied: pillow in j:\\program files\\anaconda3\\envs\\python37\\lib\\site-packages (from gradio) (9.0.1)\n",
      "Requirement already satisfied: aiohttp in c:\\users\\joy\\appdata\\roaming\\python\\python37\\site-packages (from gradio) (3.8.3)\n",
      "Requirement already satisfied: paramiko in j:\\program files\\anaconda3\\envs\\python37\\lib\\site-packages (from gradio) (2.12.0)\n",
      "Requirement already satisfied: fastapi in j:\\program files\\anaconda3\\envs\\python37\\lib\\site-packages (from gradio) (0.88.0)\n",
      "Requirement already satisfied: uvicorn in j:\\program files\\anaconda3\\envs\\python37\\lib\\site-packages (from gradio) (0.20.0)\n",
      "Requirement already satisfied: markdown-it-py[linkify,plugins] in j:\\program files\\anaconda3\\envs\\python37\\lib\\site-packages (from gradio) (2.1.0)\n",
      "Requirement already satisfied: fsspec in c:\\users\\joy\\appdata\\roaming\\python\\python37\\site-packages (from gradio) (2022.11.0)\n",
      "Requirement already satisfied: pycryptodome in j:\\program files\\anaconda3\\envs\\python37\\lib\\site-packages (from gradio) (3.16.0)\n",
      "Requirement already satisfied: pandas in j:\\program files\\anaconda3\\envs\\python37\\lib\\site-packages (from gradio) (1.3.4)\n",
      "Requirement already satisfied: pyyaml in j:\\program files\\anaconda3\\envs\\python37\\lib\\site-packages (from gradio) (6.0)\n",
      "Requirement already satisfied: orjson in j:\\program files\\anaconda3\\envs\\python37\\lib\\site-packages (from gradio) (3.8.2)\n",
      "Requirement already satisfied: python-multipart in j:\\program files\\anaconda3\\envs\\python37\\lib\\site-packages (from gradio) (0.0.5)\n",
      "Requirement already satisfied: ffmpy in j:\\program files\\anaconda3\\envs\\python37\\lib\\site-packages (from gradio) (0.3.0)\n",
      "Requirement already satisfied: websockets>=10.0 in j:\\program files\\anaconda3\\envs\\python37\\lib\\site-packages (from gradio) (10.4)\n",
      "Requirement already satisfied: requests in j:\\program files\\anaconda3\\envs\\python37\\lib\\site-packages (from gradio) (2.27.1)\n",
      "Requirement already satisfied: numpy in j:\\program files\\anaconda3\\envs\\python37\\lib\\site-packages (from gradio) (1.21.4)\n",
      "Requirement already satisfied: matplotlib in j:\\program files\\anaconda3\\envs\\python37\\lib\\site-packages (from gradio) (3.5.1)\n",
      "Requirement already satisfied: pydantic in j:\\program files\\anaconda3\\envs\\python37\\lib\\site-packages (from gradio) (1.10.2)\n",
      "Requirement already satisfied: httpx in j:\\program files\\anaconda3\\envs\\python37\\lib\\site-packages (from gradio) (0.23.1)\n",
      "Requirement already satisfied: MarkupSafe>=2.0 in j:\\program files\\anaconda3\\envs\\python37\\lib\\site-packages (from jinja2) (2.1.1)\n",
      "Requirement already satisfied: frozenlist>=1.1.1 in c:\\users\\joy\\appdata\\roaming\\python\\python37\\site-packages (from aiohttp->gradio) (1.3.3)\n",
      "Requirement already satisfied: aiosignal>=1.1.2 in c:\\users\\joy\\appdata\\roaming\\python\\python37\\site-packages (from aiohttp->gradio) (1.3.1)\n",
      "Requirement already satisfied: charset-normalizer<3.0,>=2.0 in j:\\program files\\anaconda3\\envs\\python37\\lib\\site-packages (from aiohttp->gradio) (2.0.12)\n",
      "Requirement already satisfied: async-timeout<5.0,>=4.0.0a3 in c:\\users\\joy\\appdata\\roaming\\python\\python37\\site-packages (from aiohttp->gradio) (4.0.2)\n",
      "Requirement already satisfied: multidict<7.0,>=4.5 in c:\\users\\joy\\appdata\\roaming\\python\\python37\\site-packages (from aiohttp->gradio) (6.0.4)\n",
      "Requirement already satisfied: asynctest==0.13.0 in c:\\users\\joy\\appdata\\roaming\\python\\python37\\site-packages (from aiohttp->gradio) (0.13.0)\n",
      "Requirement already satisfied: yarl<2.0,>=1.0 in c:\\users\\joy\\appdata\\roaming\\python\\python37\\site-packages (from aiohttp->gradio) (1.8.2)\n",
      "Requirement already satisfied: typing-extensions>=3.7.4 in j:\\program files\\anaconda3\\envs\\python37\\lib\\site-packages (from aiohttp->gradio) (4.4.0)\n",
      "Requirement already satisfied: attrs>=17.3.0 in j:\\program files\\anaconda3\\envs\\python37\\lib\\site-packages (from aiohttp->gradio) (21.4.0)\n",
      "Requirement already satisfied: idna>=2.0 in j:\\program files\\anaconda3\\envs\\python37\\lib\\site-packages (from yarl<2.0,>=1.0->aiohttp->gradio) (3.3)\n",
      "Requirement already satisfied: starlette==0.22.0 in j:\\program files\\anaconda3\\envs\\python37\\lib\\site-packages (from fastapi->gradio) (0.22.0)\n",
      "Requirement already satisfied: anyio<5,>=3.4.0 in j:\\program files\\anaconda3\\envs\\python37\\lib\\site-packages (from starlette==0.22.0->fastapi->gradio) (3.6.2)\n",
      "Requirement already satisfied: sniffio>=1.1 in j:\\program files\\anaconda3\\envs\\python37\\lib\\site-packages (from anyio<5,>=3.4.0->starlette==0.22.0->fastapi->gradio) (1.3.0)\n",
      "Requirement already satisfied: rfc3986[idna2008]<2,>=1.3 in j:\\program files\\anaconda3\\envs\\python37\\lib\\site-packages (from httpx->gradio) (1.5.0)\n",
      "Requirement already satisfied: certifi in j:\\program files\\anaconda3\\envs\\python37\\lib\\site-packages (from httpx->gradio) (2021.10.8)\n",
      "Requirement already satisfied: httpcore<0.17.0,>=0.15.0 in j:\\program files\\anaconda3\\envs\\python37\\lib\\site-packages (from httpx->gradio) (0.15.0)\n",
      "Requirement already satisfied: mdurl~=0.1 in j:\\program files\\anaconda3\\envs\\python37\\lib\\site-packages (from markdown-it-py[linkify,plugins]->gradio) (0.1.2)\n",
      "Requirement already satisfied: mdit-py-plugins in j:\\program files\\anaconda3\\envs\\python37\\lib\\site-packages (from markdown-it-py[linkify,plugins]->gradio) (0.3.1)\n",
      "Requirement already satisfied: linkify-it-py~=1.0 in j:\\program files\\anaconda3\\envs\\python37\\lib\\site-packages (from markdown-it-py[linkify,plugins]->gradio) (1.0.3)\n",
      "Requirement already satisfied: uc-micro-py in j:\\program files\\anaconda3\\envs\\python37\\lib\\site-packages (from linkify-it-py~=1.0->markdown-it-py[linkify,plugins]->gradio) (1.0.1)\n",
      "Requirement already satisfied: pyparsing>=2.2.1 in j:\\program files\\anaconda3\\envs\\python37\\lib\\site-packages (from matplotlib->gradio) (3.0.4)\n",
      "Requirement already satisfied: kiwisolver>=1.0.1 in j:\\program files\\anaconda3\\envs\\python37\\lib\\site-packages (from matplotlib->gradio) (1.3.2)\n",
      "Requirement already satisfied: cycler>=0.10 in j:\\program files\\anaconda3\\envs\\python37\\lib\\site-packages (from matplotlib->gradio) (0.11.0)\n",
      "Requirement already satisfied: packaging>=20.0 in j:\\program files\\anaconda3\\envs\\python37\\lib\\site-packages (from matplotlib->gradio) (21.3)\n",
      "Requirement already satisfied: python-dateutil>=2.7 in j:\\program files\\anaconda3\\envs\\python37\\lib\\site-packages (from matplotlib->gradio) (2.8.2)\n",
      "Requirement already satisfied: fonttools>=4.22.0 in j:\\program files\\anaconda3\\envs\\python37\\lib\\site-packages (from matplotlib->gradio) (4.29.1)\n",
      "Requirement already satisfied: six>=1.5 in j:\\program files\\anaconda3\\envs\\python37\\lib\\site-packages (from python-dateutil>=2.7->matplotlib->gradio) (1.16.0)\n",
      "Requirement already satisfied: pytz>=2017.3 in j:\\program files\\anaconda3\\envs\\python37\\lib\\site-packages (from pandas->gradio) (2021.3)\n",
      "Requirement already satisfied: cryptography>=2.5 in j:\\program files\\anaconda3\\envs\\python37\\lib\\site-packages (from paramiko->gradio) (38.0.4)\n",
      "Requirement already satisfied: pynacl>=1.0.1 in j:\\program files\\anaconda3\\envs\\python37\\lib\\site-packages (from paramiko->gradio) (1.5.0)\n",
      "Requirement already satisfied: bcrypt>=3.1.3 in j:\\program files\\anaconda3\\envs\\python37\\lib\\site-packages (from paramiko->gradio) (4.0.1)\n",
      "Requirement already satisfied: cffi>=1.12 in j:\\program files\\anaconda3\\envs\\python37\\lib\\site-packages (from cryptography>=2.5->paramiko->gradio) (1.15.0)\n",
      "Requirement already satisfied: pycparser in j:\\program files\\anaconda3\\envs\\python37\\lib\\site-packages (from cffi>=1.12->cryptography>=2.5->paramiko->gradio) (2.21)\n",
      "Requirement already satisfied: urllib3<1.27,>=1.21.1 in j:\\program files\\anaconda3\\envs\\python37\\lib\\site-packages (from requests->gradio) (1.26.13)\n",
      "Requirement already satisfied: click>=7.0 in j:\\program files\\anaconda3\\envs\\python37\\lib\\site-packages (from uvicorn->gradio) (8.1.3)\n",
      "Requirement already satisfied: importlib-metadata in j:\\program files\\anaconda3\\envs\\python37\\lib\\site-packages (from click>=7.0->uvicorn->gradio) (5.1.0)\n",
      "Requirement already satisfied: colorama in j:\\program files\\anaconda3\\envs\\python37\\lib\\site-packages (from click>=7.0->uvicorn->gradio) (0.4.4)\n",
      "Requirement already satisfied: zipp>=0.5 in j:\\program files\\anaconda3\\envs\\python37\\lib\\site-packages (from importlib-metadata->click>=7.0->uvicorn->gradio) (3.7.0)\n"
     ]
    }
   ],
   "source": [
    "#Importing detoxification function from detox file\n",
    "from detox import detoxification"
   ]
  },
  {
   "cell_type": "markdown",
   "metadata": {},
   "source": [
    "### UI Action Function"
   ]
  },
  {
   "cell_type": "code",
   "execution_count": 23,
   "metadata": {
    "tags": []
   },
   "outputs": [],
   "source": [
    "def score_comment(comment):\n",
    "    fcomment = preprocessingfilters(comment)\n",
    "    vectorized_comment = vectorizer([comment])\n",
    "    results = model.predict(vectorized_comment)\n",
    "        \n",
    "    if results[0][0] > 0.1:\n",
    "        pred = detoxification(comment)\n",
    "        pred = (str(pred)[1:-1]).strip('[\\]\",')\n",
    "        pred = str(pred)\n",
    "    else:\n",
    "        pred = \"Non Toxic Sentence\"\n",
    "\n",
    "    d = []\n",
    "    for idx, col in enumerate(df.columns[2:]):\n",
    "        d.append(\n",
    "            {\n",
    "                'Catagory': col,\n",
    "                'Result': results[0][idx] > 0.1,\n",
    "                'Percent':  round((results[0][idx])*100,2)\n",
    "            }\n",
    "        )\n",
    "\n",
    "    d = pd.DataFrame(d)      \n",
    "        \n",
    "    return fcomment,d,pred"
   ]
  },
  {
   "cell_type": "markdown",
   "metadata": {},
   "source": [
    "### UI Modeling"
   ]
  },
  {
   "cell_type": "code",
   "execution_count": 24,
   "metadata": {
    "tags": []
   },
   "outputs": [
    {
     "name": "stderr",
     "output_type": "stream",
     "text": [
      "J:\\Program Files\\Anaconda3\\envs\\python37\\lib\\site-packages\\gradio\\inputs.py:27: UserWarning: Usage of gradio.inputs is deprecated, and will not be supported in the future, please import your component from gradio.components\n",
      "  \"Usage of gradio.inputs is deprecated, and will not be supported in the future, please import your component from gradio.components\",\n",
      "J:\\Program Files\\Anaconda3\\envs\\python37\\lib\\site-packages\\gradio\\deprecation.py:40: UserWarning: `optional` parameter is deprecated, and it has no effect\n",
      "  warnings.warn(value)\n",
      "J:\\Program Files\\Anaconda3\\envs\\python37\\lib\\site-packages\\gradio\\deprecation.py:40: UserWarning: `numeric` parameter is deprecated, and it has no effect\n",
      "  warnings.warn(value)\n"
     ]
    }
   ],
   "source": [
    "with gr.Blocks() as interface:\n",
    "    name = gr.inputs.Textbox(lines=2, placeholder='Enter Your Sentence', label = \"Input Sentence\")\n",
    "    greet_btn = gr.Button(\"Submit\")\n",
    "    output = [gr.Textbox(label=\"Did you mean?\"),gr.Dataframe(label=\"Toxicity Detection & Classification\",headers=['Catagory', 'Result', 'Percent']) , gr.Textbox(label=\"Detoxification\")]\n",
    "    greet_btn.click(fn=score_comment, inputs=name, outputs=output)"
   ]
  },
  {
   "cell_type": "markdown",
   "metadata": {},
   "source": [
    "### UI Launch"
   ]
  },
  {
   "cell_type": "code",
   "execution_count": 25,
   "metadata": {
    "tags": []
   },
   "outputs": [
    {
     "name": "stdout",
     "output_type": "stream",
     "text": [
      "Running on local URL:  http://127.0.0.1:7860\n",
      "Running on public URL: https://98ae21e8cb615d0f.gradio.app\n",
      "\n",
      "This share link expires in 72 hours. For free permanent hosting and GPU upgrades (NEW!), check out Spaces: https://huggingface.co/spaces\n"
     ]
    },
    {
     "data": {
      "text/html": [
       "<div><iframe src=\"https://98ae21e8cb615d0f.gradio.app\" width=\"100%\" height=\"500\" allow=\"autoplay; camera; microphone; clipboard-read; clipboard-write;\" frameborder=\"0\" allowfullscreen></iframe></div>"
      ],
      "text/plain": [
       "<IPython.core.display.HTML object>"
      ]
     },
     "metadata": {},
     "output_type": "display_data"
    },
    {
     "data": {
      "text/plain": []
     },
     "execution_count": 25,
     "metadata": {},
     "output_type": "execute_result"
    },
    {
     "name": "stdout",
     "output_type": "stream",
     "text": [
      "\n",
      "Original sentence :  Black man killed a child\n",
      "Correct sentence :  A black man killed a child.\n",
      "[[0.80347824 0.01354027 0.06188534 0.08099121 0.24249987 0.12192699]]\n",
      "\n",
      "Original sentence :  Black man killed a child.\n",
      "Correct sentence :  A black man killed a child.\n",
      "[[0.80347824 0.01354027 0.06188534 0.08099121 0.24249987 0.12192699]]\n",
      "\n",
      "Original sentence :  Black man killed a child\n",
      "Correct sentence :  A black man killed a child.\n",
      "[[0.80347824 0.01354027 0.06188534 0.08099121 0.24249987 0.12192699]]\n",
      "\n",
      "Original sentence :  I am tired of these school shootings by blacks.\n",
      "Correct sentence :  I am tired of these school shootings by blacks.\n",
      "[[2.6347467e-01 9.5619667e-05 1.6185315e-02 4.7464161e-03 3.5410039e-02\n",
      "  4.4659944e-03]]\n",
      "\n",
      "Original sentence :  I am tired of these school shootings by black people.\n",
      "Correct sentence :  I am tired of these school shootings by black people.\n",
      "[[1.2785305e-01 1.3128197e-05 4.8885201e-03 3.2129425e-03 1.4963361e-02\n",
      "  4.0048896e-03]]\n",
      "\n",
      "Original sentence :  trump is so dumb to run this goverment.\n",
      "Abberivation Expanded sentence :  trump is Significant other dumb to run this goverment.\n",
      "Correct sentence :  Trump is a significant other dumb to run this government.\n",
      "[[0.3664708  0.00061676 0.0210354  0.0218728  0.06049366 0.02198048]]\n",
      "\n",
      "Original sentence :  trump is so dumb to run this goverment. fuck you trump.\n",
      "Abberivation Expanded sentence :  trump is Significant other dumb to run this goverment. fuck you trump.\n",
      "Correct sentence :  Trump is a significant other dumb to run this government. fuck you trump.\n",
      "[[0.99133754 0.10576437 0.9285856  0.01387285 0.8612634  0.03143205]]\n",
      "\n",
      "Original sentence :  trump is so dumb to run this goverment. fuck your mother.\n",
      "Abberivation Expanded sentence :  trump is Significant other dumb to run this goverment. fuck your mother.\n",
      "Correct sentence :  Trump is a significant other dumb to run this government. fuck your mother.\n",
      "[[0.99820626 0.20740773 0.9751409  0.0152253  0.9242204  0.03855287]]\n"
     ]
    }
   ],
   "source": [
    "interface.launch(share=True)"
   ]
  },
  {
   "cell_type": "code",
   "execution_count": null,
   "metadata": {},
   "outputs": [],
   "source": []
  }
 ],
 "metadata": {
  "kernelspec": {
   "display_name": "Python 3 (ipykernel)",
   "language": "python",
   "name": "python3"
  },
  "language_info": {
   "codemirror_mode": {
    "name": "ipython",
    "version": 3
   },
   "file_extension": ".py",
   "mimetype": "text/x-python",
   "name": "python",
   "nbconvert_exporter": "python",
   "pygments_lexer": "ipython3",
   "version": "3.7.11"
  }
 },
 "nbformat": 4,
 "nbformat_minor": 4
}
