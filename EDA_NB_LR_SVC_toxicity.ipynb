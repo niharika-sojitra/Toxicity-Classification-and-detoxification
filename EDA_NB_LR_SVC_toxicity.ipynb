{
 "cells": [
  {
   "cell_type": "markdown",
   "metadata": {
    "id": "h1mztUywNwYj"
   },
   "source": [
    "### Importing Libraries"
   ]
  },
  {
   "cell_type": "code",
   "execution_count": 1,
   "metadata": {
    "id": "scno6WKVNwYs",
    "tags": []
   },
   "outputs": [],
   "source": [
    "import os\n",
    "import pandas as pd\n",
    "import numpy as np\n",
    "import matplotlib.pyplot as plt\n",
    "import seaborn as sns\n",
    "import re\n",
    "\n",
    "from sklearn.model_selection import train_test_split\n",
    "from sklearn.feature_extraction.text import TfidfVectorizer\n",
    "from sklearn.naive_bayes import MultinomialNB\n",
    "from sklearn.metrics import accuracy_score\n",
    "from sklearn.multiclass import OneVsRestClassifier\n",
    "from sklearn.svm import LinearSVC\n",
    "from sklearn.linear_model import LogisticRegression\n",
    "from sklearn.pipeline import Pipeline\n",
    "from sklearn import metrics\n",
    "from sklearn.metrics import classification_report\n",
    "\n",
    "import nltk\n",
    "from nltk.corpus import stopwords\n",
    "\n",
    "import tensorflow as tf"
   ]
  },
  {
   "cell_type": "markdown",
   "metadata": {
    "colab": {
     "base_uri": "https://localhost:8080/"
    },
    "executionInfo": {
     "elapsed": 21335,
     "status": "ok",
     "timestamp": 1675174228020,
     "user": {
      "displayName": "Niharika Bharatbhai Sojitra",
      "userId": "09624390624992948692"
     },
     "user_tz": 300
    },
    "id": "Lt0FDPFfOXCy",
    "outputId": "1576e2ee-28a3-4aeb-ecd6-4c767ea00121"
   },
   "source": [
    "### Data Loading"
   ]
  },
  {
   "cell_type": "code",
   "execution_count": 2,
   "metadata": {
    "id": "hRLetbjINwYt",
    "tags": []
   },
   "outputs": [
    {
     "data": {
      "text/html": [
       "<div>\n",
       "<style scoped>\n",
       "    .dataframe tbody tr th:only-of-type {\n",
       "        vertical-align: middle;\n",
       "    }\n",
       "\n",
       "    .dataframe tbody tr th {\n",
       "        vertical-align: top;\n",
       "    }\n",
       "\n",
       "    .dataframe thead th {\n",
       "        text-align: right;\n",
       "    }\n",
       "</style>\n",
       "<table border=\"1\" class=\"dataframe\">\n",
       "  <thead>\n",
       "    <tr style=\"text-align: right;\">\n",
       "      <th></th>\n",
       "      <th>id</th>\n",
       "      <th>comment_text</th>\n",
       "      <th>Toxic</th>\n",
       "      <th>Severe Toxic</th>\n",
       "      <th>Obscene</th>\n",
       "      <th>Threat</th>\n",
       "      <th>Insult</th>\n",
       "      <th>Identity Hate</th>\n",
       "    </tr>\n",
       "  </thead>\n",
       "  <tbody>\n",
       "    <tr>\n",
       "      <th>0</th>\n",
       "      <td>0000997932d777bf</td>\n",
       "      <td>Explanation\\nWhy the edits made under my usern...</td>\n",
       "      <td>0</td>\n",
       "      <td>0</td>\n",
       "      <td>0</td>\n",
       "      <td>0</td>\n",
       "      <td>0</td>\n",
       "      <td>0</td>\n",
       "    </tr>\n",
       "    <tr>\n",
       "      <th>1</th>\n",
       "      <td>000103f0d9cfb60f</td>\n",
       "      <td>D'aww! He matches this background colour I'm s...</td>\n",
       "      <td>0</td>\n",
       "      <td>0</td>\n",
       "      <td>0</td>\n",
       "      <td>0</td>\n",
       "      <td>0</td>\n",
       "      <td>0</td>\n",
       "    </tr>\n",
       "    <tr>\n",
       "      <th>2</th>\n",
       "      <td>000113f07ec002fd</td>\n",
       "      <td>Hey man, I'm really not trying to edit war. It...</td>\n",
       "      <td>0</td>\n",
       "      <td>0</td>\n",
       "      <td>0</td>\n",
       "      <td>0</td>\n",
       "      <td>0</td>\n",
       "      <td>0</td>\n",
       "    </tr>\n",
       "    <tr>\n",
       "      <th>3</th>\n",
       "      <td>0001b41b1c6bb37e</td>\n",
       "      <td>\"\\nMore\\nI can't make any real suggestions on ...</td>\n",
       "      <td>0</td>\n",
       "      <td>0</td>\n",
       "      <td>0</td>\n",
       "      <td>0</td>\n",
       "      <td>0</td>\n",
       "      <td>0</td>\n",
       "    </tr>\n",
       "    <tr>\n",
       "      <th>4</th>\n",
       "      <td>0001d958c54c6e35</td>\n",
       "      <td>You, sir, are my hero. Any chance you remember...</td>\n",
       "      <td>0</td>\n",
       "      <td>0</td>\n",
       "      <td>0</td>\n",
       "      <td>0</td>\n",
       "      <td>0</td>\n",
       "      <td>0</td>\n",
       "    </tr>\n",
       "  </tbody>\n",
       "</table>\n",
       "</div>"
      ],
      "text/plain": [
       "                 id                                       comment_text  Toxic  \\\n",
       "0  0000997932d777bf  Explanation\\nWhy the edits made under my usern...      0   \n",
       "1  000103f0d9cfb60f  D'aww! He matches this background colour I'm s...      0   \n",
       "2  000113f07ec002fd  Hey man, I'm really not trying to edit war. It...      0   \n",
       "3  0001b41b1c6bb37e  \"\\nMore\\nI can't make any real suggestions on ...      0   \n",
       "4  0001d958c54c6e35  You, sir, are my hero. Any chance you remember...      0   \n",
       "\n",
       "   Severe Toxic  Obscene  Threat  Insult  Identity Hate  \n",
       "0             0        0       0       0              0  \n",
       "1             0        0       0       0              0  \n",
       "2             0        0       0       0              0  \n",
       "3             0        0       0       0              0  \n",
       "4             0        0       0       0              0  "
      ]
     },
     "execution_count": 2,
     "metadata": {},
     "output_type": "execute_result"
    }
   ],
   "source": [
    "df = pd.read_csv(os.path.join('datasets/jigsaw-toxic-comment-classification-challenge','train.csv', 'train.csv'))\n",
    "\n",
    "df.head()"
   ]
  },
  {
   "cell_type": "markdown",
   "metadata": {
    "id": "i1VC4YISftCM"
   },
   "source": [
    "### Exploratory Data Analysis"
   ]
  },
  {
   "cell_type": "code",
   "execution_count": 3,
   "metadata": {
    "colab": {
     "base_uri": "https://localhost:8080/"
    },
    "executionInfo": {
     "elapsed": 3,
     "status": "ok",
     "timestamp": 1675174384917,
     "user": {
      "displayName": "Niharika Bharatbhai Sojitra",
      "userId": "09624390624992948692"
     },
     "user_tz": 300
    },
    "id": "AMFUEPXUfvjN",
    "outputId": "fe808849-6f76-4c35-9907-ed63ddd1a15f"
   },
   "outputs": [
    {
     "name": "stderr",
     "output_type": "stream",
     "text": [
      "[nltk_data] Downloading package stopwords to\n",
      "[nltk_data]     C:\\Users\\JOY\\AppData\\Roaming\\nltk_data...\n",
      "[nltk_data]   Package stopwords is already up-to-date!\n"
     ]
    }
   ],
   "source": [
    "nltk.download('stopwords')\n",
    "stop_words = set(stopwords.words('english'))"
   ]
  },
  {
   "cell_type": "code",
   "execution_count": 4,
   "metadata": {
    "colab": {
     "base_uri": "https://localhost:8080/",
     "height": 260
    },
    "executionInfo": {
     "elapsed": 168,
     "status": "ok",
     "timestamp": 1675174385956,
     "user": {
      "displayName": "Niharika Bharatbhai Sojitra",
      "userId": "09624390624992948692"
     },
     "user_tz": 300
    },
    "id": "EZqNY-Scf49n",
    "outputId": "54db5706-43ba-42c6-b26a-e58f9af7e092"
   },
   "outputs": [],
   "source": [
    "df_toxic = df.drop(['id', 'comment_text'], axis=1)\n",
    "counts = []\n",
    "categories = list(df_toxic.columns.values)\n",
    "\n",
    "for i in categories:\n",
    "    counts.append((i, df_toxic[i].sum()))"
   ]
  },
  {
   "cell_type": "markdown",
   "metadata": {},
   "source": [
    "### Number of comments by categories"
   ]
  },
  {
   "cell_type": "code",
   "execution_count": 5,
   "metadata": {},
   "outputs": [
    {
     "data": {
      "text/html": [
       "<div>\n",
       "<style scoped>\n",
       "    .dataframe tbody tr th:only-of-type {\n",
       "        vertical-align: middle;\n",
       "    }\n",
       "\n",
       "    .dataframe tbody tr th {\n",
       "        vertical-align: top;\n",
       "    }\n",
       "\n",
       "    .dataframe thead th {\n",
       "        text-align: right;\n",
       "    }\n",
       "</style>\n",
       "<table border=\"1\" class=\"dataframe\">\n",
       "  <thead>\n",
       "    <tr style=\"text-align: right;\">\n",
       "      <th></th>\n",
       "      <th>category</th>\n",
       "      <th>number_of_comments</th>\n",
       "    </tr>\n",
       "  </thead>\n",
       "  <tbody>\n",
       "    <tr>\n",
       "      <th>0</th>\n",
       "      <td>Toxic</td>\n",
       "      <td>15294</td>\n",
       "    </tr>\n",
       "    <tr>\n",
       "      <th>1</th>\n",
       "      <td>Severe Toxic</td>\n",
       "      <td>1595</td>\n",
       "    </tr>\n",
       "    <tr>\n",
       "      <th>2</th>\n",
       "      <td>Obscene</td>\n",
       "      <td>8449</td>\n",
       "    </tr>\n",
       "    <tr>\n",
       "      <th>3</th>\n",
       "      <td>Threat</td>\n",
       "      <td>478</td>\n",
       "    </tr>\n",
       "    <tr>\n",
       "      <th>4</th>\n",
       "      <td>Insult</td>\n",
       "      <td>7877</td>\n",
       "    </tr>\n",
       "    <tr>\n",
       "      <th>5</th>\n",
       "      <td>Identity Hate</td>\n",
       "      <td>1405</td>\n",
       "    </tr>\n",
       "  </tbody>\n",
       "</table>\n",
       "</div>"
      ],
      "text/plain": [
       "        category  number_of_comments\n",
       "0          Toxic               15294\n",
       "1   Severe Toxic                1595\n",
       "2        Obscene                8449\n",
       "3         Threat                 478\n",
       "4         Insult                7877\n",
       "5  Identity Hate                1405"
      ]
     },
     "execution_count": 5,
     "metadata": {},
     "output_type": "execute_result"
    }
   ],
   "source": [
    "df_stats = pd.DataFrame(counts, columns=['category', 'number_of_comments'])\n",
    "df_stats"
   ]
  },
  {
   "cell_type": "markdown",
   "metadata": {},
   "source": [
    "### Ploting Number of Ocurrence vs Categories"
   ]
  },
  {
   "cell_type": "code",
   "execution_count": 6,
   "metadata": {
    "colab": {
     "base_uri": "https://localhost:8080/",
     "height": 485
    },
    "executionInfo": {
     "elapsed": 467,
     "status": "ok",
     "timestamp": 1675174835449,
     "user": {
      "displayName": "Niharika Bharatbhai Sojitra",
      "userId": "09624390624992948692"
     },
     "user_tz": 300
    },
    "id": "Gu_LlHK6goSY",
    "outputId": "0d742630-0abd-433c-9c44-69ab3bd19145"
   },
   "outputs": [
    {
     "data": {
      "text/plain": [
       "Text(0.5, 0, 'categories')"
      ]
     },
     "execution_count": 6,
     "metadata": {},
     "output_type": "execute_result"
    },
    {
     "data": {
      "image/png": "[encoded data removed]",
      "text/plain": [
       "<Figure size 576x360 with 1 Axes>"
      ]
     },
     "metadata": {
      "needs_background": "light"
     },
     "output_type": "display_data"
    }
   ],
   "source": [
    "df_stats.plot(x='category', y='number_of_comments', kind='bar', legend=False, figsize=(8, 5), zorder=3)\n",
    "plt.grid(zorder=0)\n",
    "plt.xticks(fontsize=16, rotation=60)\n",
    "plt.yticks(fontsize=16)\n",
    "plt.title(\"Number of comments per category\")\n",
    "plt.ylabel('# of Occurrences', fontsize=20)\n",
    "plt.xlabel('categories', fontsize=20)"
   ]
  },
  {
   "cell_type": "markdown",
   "metadata": {},
   "source": [
    "### Multiple Categories Per Comment"
   ]
  },
  {
   "cell_type": "code",
   "execution_count": 7,
   "metadata": {
    "colab": {
     "base_uri": "https://localhost:8080/",
     "height": 425
    },
    "executionInfo": {
     "elapsed": 194,
     "status": "ok",
     "timestamp": 1674528732611,
     "user": {
      "displayName": "Joy Nikhil Christian",
      "userId": "04094954153835753808"
     },
     "user_tz": 300
    },
    "id": "U9VpBg_5grTn",
    "outputId": "6bdfc303-3eeb-4da3-b9c5-91dbdce95681"
   },
   "outputs": [
    {
     "name": "stderr",
     "output_type": "stream",
     "text": [
      "J:\\Program Files\\Anaconda3\\envs\\python37\\lib\\site-packages\\seaborn\\_decorators.py:43: FutureWarning: Pass the following variables as keyword args: x, y. From version 0.12, the only valid positional argument will be `data`, and passing other arguments without an explicit keyword will result in an error or misinterpretation.\n",
      "  FutureWarning\n"
     ]
    },
    {
     "data": {
      "text/plain": [
       "Text(0.5, 0, '# of categories')"
      ]
     },
     "execution_count": 7,
     "metadata": {},
     "output_type": "execute_result"
    },
    {
     "data": {
      "image/png": "[encoded data removed]",
      "text/plain": [
       "<Figure size 576x360 with 1 Axes>"
      ]
     },
     "metadata": {
      "needs_background": "light"
     },
     "output_type": "display_data"
    }
   ],
   "source": [
    "rowsums = df.iloc[:,2:].sum(axis=1)\n",
    "x = rowsums.value_counts()\n",
    "\n",
    "plt.figure(figsize=(8,5))\n",
    "ax = sns.barplot(x.index, x.values)\n",
    "plt.title(\"Multiple categories per comment\")\n",
    "plt.ylabel('# of Occurrences', fontsize=12)\n",
    "plt.xlabel('# of categories', fontsize=12)"
   ]
  },
  {
   "cell_type": "markdown",
   "metadata": {},
   "source": [
    "### Not labeled Comments"
   ]
  },
  {
   "cell_type": "code",
   "execution_count": 8,
   "metadata": {
    "colab": {
     "base_uri": "https://localhost:8080/"
    },
    "executionInfo": {
     "elapsed": 7,
     "status": "ok",
     "timestamp": 1674528732612,
     "user": {
      "displayName": "Joy Nikhil Christian",
      "userId": "04094954153835753808"
     },
     "user_tz": 300
    },
    "id": "EkOVmcPCg8ek",
    "outputId": "01993218-3257-4ee7-932b-6fee02db4ca4"
   },
   "outputs": [
    {
     "name": "stdout",
     "output_type": "stream",
     "text": [
      "Percentage of comments that are not labeled:\n",
      "0.8983211235124177\n"
     ]
    }
   ],
   "source": [
    "print('Percentage of comments that are not labeled:')\n",
    "print(len(df[(df['Toxic']==0) & (df['Severe Toxic']==0) & (df['Obscene']==0) & (df['Threat']== 0) & (df['Insult']==0) & (df['Identity Hate']==0)]) / len(df))"
   ]
  },
  {
   "cell_type": "markdown",
   "metadata": {},
   "source": [
    "### Length of comments"
   ]
  },
  {
   "cell_type": "code",
   "execution_count": 9,
   "metadata": {
    "colab": {
     "base_uri": "https://localhost:8080/",
     "height": 282
    },
    "executionInfo": {
     "elapsed": 548,
     "status": "ok",
     "timestamp": 1674528733154,
     "user": {
      "displayName": "Joy Nikhil Christian",
      "userId": "04094954153835753808"
     },
     "user_tz": 300
    },
    "id": "SHPyAi-hg_oJ",
    "outputId": "add1b3a3-177e-4fb1-f479-8c0a908d6b83"
   },
   "outputs": [
    {
     "data": {
      "text/plain": [
       "<AxesSubplot:>"
      ]
     },
     "execution_count": 9,
     "metadata": {},
     "output_type": "execute_result"
    },
    {
     "data": {
      "image/png": "[encoded data removed]",
      "text/plain": [
       "<Figure size 432x288 with 1 Axes>"
      ]
     },
     "metadata": {
      "needs_background": "light"
     },
     "output_type": "display_data"
    }
   ],
   "source": [
    "lens = df.comment_text.str.len()\n",
    "lens.hist(bins = np.arange(0,5000,50))"
   ]
  },
  {
   "cell_type": "markdown",
   "metadata": {},
   "source": [
    "### Missing Comments"
   ]
  },
  {
   "cell_type": "code",
   "execution_count": 10,
   "metadata": {
    "colab": {
     "base_uri": "https://localhost:8080/"
    },
    "executionInfo": {
     "elapsed": 9,
     "status": "ok",
     "timestamp": 1674528733154,
     "user": {
      "displayName": "Joy Nikhil Christian",
      "userId": "04094954153835753808"
     },
     "user_tz": 300
    },
    "id": "A5HMu7pyhewm",
    "outputId": "a8308a3f-919a-4205-c50e-389876473294"
   },
   "outputs": [
    {
     "name": "stdout",
     "output_type": "stream",
     "text": [
      "Number of missing comments in comment text:\n"
     ]
    },
    {
     "data": {
      "text/plain": [
       "0"
      ]
     },
     "execution_count": 10,
     "metadata": {},
     "output_type": "execute_result"
    }
   ],
   "source": [
    "print('Number of missing comments in comment text:')\n",
    "df['comment_text'].isnull().sum()"
   ]
  },
  {
   "cell_type": "markdown",
   "metadata": {},
   "source": [
    "### Data Pre-Processing"
   ]
  },
  {
   "cell_type": "code",
   "execution_count": 11,
   "metadata": {
    "id": "LmBcgKjNhlWU"
   },
   "outputs": [],
   "source": [
    "def clean_text(text):\n",
    "    text = text.lower()\n",
    "    text = re.sub(r\"what's\", \"what is \", text)\n",
    "    text = re.sub(r\"\\'s\", \" \", text)\n",
    "    text = re.sub(r\"\\'ve\", \" have \", text)\n",
    "    text = re.sub(r\"can't\", \"can not \", text)\n",
    "    text = re.sub(r\"n't\", \" not \", text)\n",
    "    text = re.sub(r\"i'm\", \"i am \", text)\n",
    "    text = re.sub(r\"\\'re\", \" are \", text)\n",
    "    text = re.sub(r\"\\'d\", \" would \", text)\n",
    "    text = re.sub(r\"\\'ll\", \" will \", text)\n",
    "    text = re.sub(r\"\\'scuse\", \" excuse \", text)\n",
    "    text = re.sub('\\W', ' ', text)\n",
    "    text = re.sub('\\s+', ' ', text)\n",
    "    text = text.strip(' ')\n",
    "    return text"
   ]
  },
  {
   "cell_type": "markdown",
   "metadata": {},
   "source": [
    "### Train Test Split"
   ]
  },
  {
   "cell_type": "code",
   "execution_count": 12,
   "metadata": {
    "id": "HuVlcHXZhp5m"
   },
   "outputs": [
    {
     "name": "stdout",
     "output_type": "stream",
     "text": [
      "(106912,)\n",
      "(52659,)\n",
      "(106912, 6)\n",
      "(52659, 6)\n"
     ]
    }
   ],
   "source": [
    "df['comment_text'] = df['comment_text'].map(lambda com : clean_text(com))\n",
    "df['comment_text'][0]\n",
    "\n",
    "df = df.drop(['id'], axis=1)\n",
    "\n",
    "categories = ['Toxic', 'Severe Toxic', 'Obscene', 'Threat', 'Insult', 'Identity Hate']\n",
    "train, test = train_test_split(df, random_state=42, test_size=0.33, shuffle=True)\n",
    "\n",
    "X_train = train.comment_text\n",
    "X_test = test.comment_text\n",
    "Y_train = train.loc[:, df.columns != 'comment_text']\n",
    "Y_test = test.loc[:, df.columns != 'comment_text']\n",
    "\n",
    "print(X_train.shape)\n",
    "print(X_test.shape)\n",
    "print(Y_train.shape)\n",
    "print(Y_test.shape)"
   ]
  },
  {
   "cell_type": "markdown",
   "metadata": {},
   "source": [
    "### Naive Bayes Classifier"
   ]
  },
  {
   "cell_type": "code",
   "execution_count": 13,
   "metadata": {
    "colab": {
     "base_uri": "https://localhost:8080/"
    },
    "executionInfo": {
     "elapsed": 60250,
     "status": "ok",
     "timestamp": 1674528802374,
     "user": {
      "displayName": "Joy Nikhil Christian",
      "userId": "04094954153835753808"
     },
     "user_tz": 300
    },
    "id": "wh8ZsIekiBe5",
    "outputId": "c866cb54-e552-423d-ab2e-05d911b30e8d"
   },
   "outputs": [
    {
     "name": "stdout",
     "output_type": "stream",
     "text": [
      "Test accuracy is 0.8986118232400919\n",
      "[[52346     0     0     0     0]\n",
      " [  174     0     0     0     0]\n",
      " [    6     0     0     0     0]\n",
      " [  117     0     0     0     0]\n",
      " [   16     0     0     0     0]]\n",
      "               precision    recall  f1-score   support\n",
      "\n",
      "        Toxic       0.99      0.17      0.28      5083\n",
      " Severe Toxic       0.00      0.00      0.00       526\n",
      "      Obscene       0.99      0.10      0.18      2831\n",
      "       Threat       1.00      0.01      0.01       152\n",
      "       Insult       0.98      0.04      0.08      2643\n",
      "Identity Hate       0.00      0.00      0.00       471\n",
      "\n",
      "    micro avg       0.99      0.11      0.19     11706\n",
      "    macro avg       0.66      0.05      0.09     11706\n",
      " weighted avg       0.90      0.11      0.19     11706\n",
      "  samples avg       0.02      0.01      0.01     11706\n",
      "\n"
     ]
    },
    {
     "name": "stderr",
     "output_type": "stream",
     "text": [
      "J:\\Program Files\\Anaconda3\\envs\\python37\\lib\\site-packages\\sklearn\\metrics\\_classification.py:1318: UndefinedMetricWarning: Precision and F-score are ill-defined and being set to 0.0 in samples with no predicted labels. Use `zero_division` parameter to control this behavior.\n",
      "  _warn_prf(average, modifier, msg_start, len(result))\n",
      "J:\\Program Files\\Anaconda3\\envs\\python37\\lib\\site-packages\\sklearn\\metrics\\_classification.py:1318: UndefinedMetricWarning: Recall and F-score are ill-defined and being set to 0.0 in samples with no true labels. Use `zero_division` parameter to control this behavior.\n",
      "  _warn_prf(average, modifier, msg_start, len(result))\n"
     ]
    }
   ],
   "source": [
    "NB_pipeline = Pipeline([('tfidf', TfidfVectorizer(stop_words=stop_words)),\n",
    "                        ('clf', OneVsRestClassifier(MultinomialNB(\n",
    "                        fit_prior=True, class_prior=None))),])\n",
    "\n",
    "NB_pipeline.fit(X_train, Y_train)\n",
    "\n",
    "prediction = NB_pipeline.predict(X_test)\n",
    "\n",
    "print('Test accuracy is {}'.format(accuracy_score(Y_test, prediction)))\n",
    "\n",
    "print(metrics.confusion_matrix(Y_test.values.argmax(axis=1), prediction.argmax(axis=1)))\n",
    "\n",
    "print(metrics.classification_report(Y_test, prediction, target_names=categories))  "
   ]
  },
  {
   "cell_type": "markdown",
   "metadata": {},
   "source": [
    "### Logistic Regression"
   ]
  },
  {
   "cell_type": "code",
   "execution_count": 14,
   "metadata": {
    "colab": {
     "base_uri": "https://localhost:8080/"
    },
    "executionInfo": {
     "elapsed": 67072,
     "status": "ok",
     "timestamp": 1674528869435,
     "user": {
      "displayName": "Joy Nikhil Christian",
      "userId": "04094954153835753808"
     },
     "user_tz": 300
    },
    "id": "Lhjoi_kZiE2I",
    "outputId": "76748213-013e-44ad-98bf-9fd347ed62c2"
   },
   "outputs": [
    {
     "name": "stdout",
     "output_type": "stream",
     "text": [
      "Test accuracy is 0.9181336523671167\n",
      "[[52342     3     0     0     1]\n",
      " [  173     1     0     0     0]\n",
      " [    6     0     0     0     0]\n",
      " [  117     0     0     0     0]\n",
      " [   16     0     0     0     0]]\n",
      "               precision    recall  f1-score   support\n",
      "\n",
      "        Toxic       0.93      0.58      0.71      5083\n",
      " Severe Toxic       0.63      0.26      0.36       526\n",
      "      Obscene       0.93      0.60      0.73      2831\n",
      "       Threat       0.71      0.14      0.24       152\n",
      "       Insult       0.82      0.48      0.61      2643\n",
      "Identity Hate       0.69      0.14      0.24       471\n",
      "\n",
      "    micro avg       0.89      0.52      0.66     11706\n",
      "    macro avg       0.78      0.37      0.48     11706\n",
      " weighted avg       0.88      0.52      0.65     11706\n",
      "  samples avg       0.05      0.04      0.05     11706\n",
      "\n"
     ]
    },
    {
     "name": "stderr",
     "output_type": "stream",
     "text": [
      "J:\\Program Files\\Anaconda3\\envs\\python37\\lib\\site-packages\\sklearn\\metrics\\_classification.py:1318: UndefinedMetricWarning: Precision and F-score are ill-defined and being set to 0.0 in samples with no predicted labels. Use `zero_division` parameter to control this behavior.\n",
      "  _warn_prf(average, modifier, msg_start, len(result))\n",
      "J:\\Program Files\\Anaconda3\\envs\\python37\\lib\\site-packages\\sklearn\\metrics\\_classification.py:1318: UndefinedMetricWarning: Recall and F-score are ill-defined and being set to 0.0 in samples with no true labels. Use `zero_division` parameter to control this behavior.\n",
      "  _warn_prf(average, modifier, msg_start, len(result))\n"
     ]
    }
   ],
   "source": [
    "LogReg_pipeline = Pipeline([('tfidf', TfidfVectorizer(stop_words=stop_words)),\n",
    "                            ('clf', OneVsRestClassifier(LogisticRegression(solver='sag'), n_jobs=1)),])\n",
    "\n",
    "LogReg_pipeline.fit(X_train, Y_train)\n",
    "\n",
    "prediction = LogReg_pipeline.predict(X_test)\n",
    "\n",
    "print('Test accuracy is {}'.format(accuracy_score(Y_test, prediction)))\n",
    "\n",
    "print(metrics.confusion_matrix(Y_test.values.argmax(axis=1), prediction.argmax(axis=1)))\n",
    "\n",
    "print(metrics.classification_report(Y_test, prediction, target_names=categories))"
   ]
  },
  {
   "cell_type": "markdown",
   "metadata": {},
   "source": [
    "### Support Vector Classifier"
   ]
  },
  {
   "cell_type": "code",
   "execution_count": 15,
   "metadata": {
    "colab": {
     "base_uri": "https://localhost:8080/"
    },
    "executionInfo": {
     "elapsed": 57046,
     "status": "ok",
     "timestamp": 1674528926477,
     "user": {
      "displayName": "Joy Nikhil Christian",
      "userId": "04094954153835753808"
     },
     "user_tz": 300
    },
    "id": "PaAqaGbvi1tY",
    "outputId": "84d6851b-ccac-40f5-eb43-8063a52e9d1b"
   },
   "outputs": [
    {
     "name": "stdout",
     "output_type": "stream",
     "text": [
      "Test accuracy is 0.9197478113902656\n",
      "[[52286     1    31     0    22     6]\n",
      " [    0     0     0     0     0     0]\n",
      " [  171     0     2     0     1     0]\n",
      " [    6     0     0     0     0     0]\n",
      " [  115     0     1     0     1     0]\n",
      " [   15     0     0     0     0     1]]\n",
      "               precision    recall  f1-score   support\n",
      "\n",
      "        Toxic       0.87      0.68      0.77      5083\n",
      " Severe Toxic       0.56      0.28      0.38       526\n",
      "      Obscene       0.89      0.70      0.78      2831\n",
      "       Threat       0.65      0.26      0.37       152\n",
      "       Insult       0.80      0.58      0.67      2643\n",
      "Identity Hate       0.64      0.24      0.35       471\n",
      "\n",
      "    micro avg       0.84      0.62      0.72     11706\n",
      "    macro avg       0.73      0.46      0.55     11706\n",
      " weighted avg       0.83      0.62      0.71     11706\n",
      "  samples avg       0.06      0.06      0.06     11706\n",
      "\n"
     ]
    },
    {
     "name": "stderr",
     "output_type": "stream",
     "text": [
      "J:\\Program Files\\Anaconda3\\envs\\python37\\lib\\site-packages\\sklearn\\metrics\\_classification.py:1318: UndefinedMetricWarning: Precision and F-score are ill-defined and being set to 0.0 in samples with no predicted labels. Use `zero_division` parameter to control this behavior.\n",
      "  _warn_prf(average, modifier, msg_start, len(result))\n",
      "J:\\Program Files\\Anaconda3\\envs\\python37\\lib\\site-packages\\sklearn\\metrics\\_classification.py:1318: UndefinedMetricWarning: Recall and F-score are ill-defined and being set to 0.0 in samples with no true labels. Use `zero_division` parameter to control this behavior.\n",
      "  _warn_prf(average, modifier, msg_start, len(result))\n"
     ]
    }
   ],
   "source": [
    "SVC_pipeline = Pipeline([('tfidf', TfidfVectorizer(stop_words=stop_words)),\n",
    "                         ('clf', OneVsRestClassifier(LinearSVC(), n_jobs=1)),])\n",
    "\n",
    "SVC_pipeline.fit(X_train, Y_train)\n",
    "\n",
    "prediction = SVC_pipeline.predict(X_test)\n",
    "\n",
    "print('Test accuracy is {}'.format(accuracy_score(Y_test, prediction)))\n",
    "\n",
    "print(metrics.confusion_matrix(Y_test.values.argmax(axis=1), prediction.argmax(axis=1)))\n",
    "\n",
    "print(metrics.classification_report(Y_test, prediction, target_names=categories))"
   ]
  },
  {
   "cell_type": "code",
   "execution_count": null,
   "metadata": {
    "id": "nc9yGUuqpvwg"
   },
   "outputs": [],
   "source": []
  }
 ],
 "metadata": {
  "accelerator": "GPU",
  "colab": {
   "provenance": []
  },
  "gpuClass": "standard",
  "kernelspec": {
   "display_name": "Python 3 (ipykernel)",
   "language": "python",
   "name": "python3"
  },
  "language_info": {
   "codemirror_mode": {
    "name": "ipython",
    "version": 3
   },
   "file_extension": ".py",
   "mimetype": "text/x-python",
   "name": "python",
   "nbconvert_exporter": "python",
   "pygments_lexer": "ipython3",
   "version": "3.7.11"
  }
 },
 "nbformat": 4,
 "nbformat_minor": 1
}
